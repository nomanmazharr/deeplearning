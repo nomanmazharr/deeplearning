{
 "cells": [
  {
   "cell_type": "code",
   "execution_count": 1,
   "metadata": {
    "id": "wSFZKBtzWgo2"
   },
   "outputs": [],
   "source": [
    "from keras.datasets import imdb"
   ]
  },
  {
   "cell_type": "code",
   "execution_count": 2,
   "metadata": {
    "id": "dbXCCaoZXSVb"
   },
   "outputs": [],
   "source": [
    "dummy_data = [\n",
    "    'Dil Dil Pakistan',\n",
    "    'Jan Jan Pakistan',\n",
    "    'Dil Dil Pakistan',\n",
    "    'Jan Jan Pakistan',\n",
    "    'Aesi zameen or asman',\n",
    "    'in kay siwa jana kaha',\n",
    "    'Barhti rahay yeh dosti',\n",
    "    'chalta rahay yeh karwan',\n",
    "    'Dil Dil Pakistan',\n",
    "    'Jan Jan Pakistan'\n",
    "]"
   ]
  },
  {
   "cell_type": "code",
   "execution_count": 3,
   "metadata": {
    "id": "iMe3cTiAXSX4"
   },
   "outputs": [],
   "source": [
    "from tensorflow.keras.preprocessing.text import Tokenizer"
   ]
  },
  {
   "cell_type": "code",
   "execution_count": 4,
   "metadata": {
    "id": "gGGEiULsXSad"
   },
   "outputs": [],
   "source": [
    "tokens = Tokenizer()"
   ]
  },
  {
   "cell_type": "code",
   "execution_count": 5,
   "metadata": {
    "id": "k04hVbayXSc_"
   },
   "outputs": [],
   "source": [
    "tokens.fit_on_texts(dummy_data)"
   ]
  },
  {
   "cell_type": "code",
   "execution_count": 6,
   "metadata": {
    "colab": {
     "base_uri": "https://localhost:8080/"
    },
    "id": "Vpwm2xFlXSfV",
    "outputId": "9e80d7a0-0a14-4eea-e2dc-ff0297004e94"
   },
   "outputs": [
    {
     "data": {
      "text/plain": [
       "OrderedDict([('dil', 6),\n",
       "             ('pakistan', 6),\n",
       "             ('jan', 6),\n",
       "             ('aesi', 1),\n",
       "             ('zameen', 1),\n",
       "             ('or', 1),\n",
       "             ('asman', 1),\n",
       "             ('in', 1),\n",
       "             ('kay', 1),\n",
       "             ('siwa', 1),\n",
       "             ('jana', 1),\n",
       "             ('kaha', 1),\n",
       "             ('barhti', 1),\n",
       "             ('rahay', 2),\n",
       "             ('yeh', 2),\n",
       "             ('dosti', 1),\n",
       "             ('chalta', 1),\n",
       "             ('karwan', 1)])"
      ]
     },
     "execution_count": 6,
     "metadata": {},
     "output_type": "execute_result"
    }
   ],
   "source": [
    "tokens.word_counts"
   ]
  },
  {
   "cell_type": "code",
   "execution_count": 7,
   "metadata": {
    "colab": {
     "base_uri": "https://localhost:8080/"
    },
    "id": "HkibKP4jXShe",
    "outputId": "01e7509e-9eb3-45c6-cf60-b76c5d7945d7"
   },
   "outputs": [
    {
     "data": {
      "text/plain": [
       "[[1, 1, 2],\n",
       " [3, 3, 2],\n",
       " [1, 1, 2],\n",
       " [3, 3, 2],\n",
       " [6, 7, 8, 9],\n",
       " [10, 11, 12, 13, 14],\n",
       " [15, 4, 5, 16],\n",
       " [17, 4, 5, 18],\n",
       " [1, 1, 2],\n",
       " [3, 3, 2]]"
      ]
     },
     "execution_count": 7,
     "metadata": {},
     "output_type": "execute_result"
    }
   ],
   "source": [
    "sequences = tokens.texts_to_sequences(dummy_data)\n",
    "sequences"
   ]
  },
  {
   "cell_type": "code",
   "execution_count": 8,
   "metadata": {
    "id": "Eh_rFugHXSj5"
   },
   "outputs": [],
   "source": [
    "from keras.utils import pad_sequences"
   ]
  },
  {
   "cell_type": "code",
   "execution_count": 9,
   "metadata": {
    "id": "hETcxudnXSmN"
   },
   "outputs": [],
   "source": [
    "sequences = pad_sequences(sequences)"
   ]
  },
  {
   "cell_type": "code",
   "execution_count": 10,
   "metadata": {
    "id": "XeA2Huj9XSox"
   },
   "outputs": [],
   "source": [
    "from keras.models import Sequential\n",
    "from keras.layers import Dense, SimpleRNN, Embedding"
   ]
  },
  {
   "cell_type": "code",
   "execution_count": 12,
   "metadata": {
    "colab": {
     "base_uri": "https://localhost:8080/"
    },
    "id": "rZuKD1P1YtjJ",
    "outputId": "404d423e-1df1-4cba-f842-495579415cd9"
   },
   "outputs": [
    {
     "name": "stdout",
     "output_type": "stream",
     "text": [
      "Model: \"sequential_1\"\n",
      "_________________________________________________________________\n",
      " Layer (type)                Output Shape              Param #   \n",
      "=================================================================\n",
      " embedding_1 (Embedding)     (None, 5, 2)              64        \n",
      "                                                                 \n",
      "=================================================================\n",
      "Total params: 64 (256.00 Byte)\n",
      "Trainable params: 64 (256.00 Byte)\n",
      "Non-trainable params: 0 (0.00 Byte)\n",
      "_________________________________________________________________\n"
     ]
    }
   ],
   "source": [
    "model = Sequential()\n",
    "\n",
    "model.add(Embedding(32, input_length=5, output_dim =2))\n",
    "\n",
    "model.summary()"
   ]
  },
  {
   "cell_type": "code",
   "execution_count": 13,
   "metadata": {
    "id": "ZYESM0iJYtlu"
   },
   "outputs": [],
   "source": [
    "model.compile('adam', 'accuracy')"
   ]
  },
  {
   "cell_type": "code",
   "execution_count": 14,
   "metadata": {
    "colab": {
     "base_uri": "https://localhost:8080/"
    },
    "id": "miW3C2zcYtoB",
    "outputId": "48652350-1303-48a4-c511-c5cc3594064c"
   },
   "outputs": [
    {
     "name": "stdout",
     "output_type": "stream",
     "text": [
      "1/1 [==============================] - 0s 119ms/step\n"
     ]
    },
    {
     "data": {
      "text/plain": [
       "array([[[ 0.0251422 , -0.02188599],\n",
       "        [ 0.0251422 , -0.02188599],\n",
       "        [-0.04047686,  0.00310308],\n",
       "        [-0.04047686,  0.00310308],\n",
       "        [ 0.02323438,  0.03360286]],\n",
       "\n",
       "       [[ 0.0251422 , -0.02188599],\n",
       "        [ 0.0251422 , -0.02188599],\n",
       "        [ 0.0361835 ,  0.03058619],\n",
       "        [ 0.0361835 ,  0.03058619],\n",
       "        [ 0.02323438,  0.03360286]],\n",
       "\n",
       "       [[ 0.0251422 , -0.02188599],\n",
       "        [ 0.0251422 , -0.02188599],\n",
       "        [-0.04047686,  0.00310308],\n",
       "        [-0.04047686,  0.00310308],\n",
       "        [ 0.02323438,  0.03360286]],\n",
       "\n",
       "       [[ 0.0251422 , -0.02188599],\n",
       "        [ 0.0251422 , -0.02188599],\n",
       "        [ 0.0361835 ,  0.03058619],\n",
       "        [ 0.0361835 ,  0.03058619],\n",
       "        [ 0.02323438,  0.03360286]],\n",
       "\n",
       "       [[ 0.0251422 , -0.02188599],\n",
       "        [-0.01700232,  0.02899071],\n",
       "        [-0.04381963, -0.01566935],\n",
       "        [ 0.00141184, -0.0143314 ],\n",
       "        [ 0.04915029,  0.04596949]],\n",
       "\n",
       "       [[-0.00704116,  0.03058887],\n",
       "        [ 0.0402636 ,  0.0378967 ],\n",
       "        [ 0.01874112, -0.04240396],\n",
       "        [-0.00691261, -0.00581903],\n",
       "        [-0.03612902,  0.03333396]],\n",
       "\n",
       "       [[ 0.0251422 , -0.02188599],\n",
       "        [-0.02128092,  0.01195506],\n",
       "        [-0.03974785,  0.04233589],\n",
       "        [-0.04955721,  0.01026224],\n",
       "        [ 0.00228757,  0.03007462]],\n",
       "\n",
       "       [[ 0.0251422 , -0.02188599],\n",
       "        [ 0.03217143,  0.03092575],\n",
       "        [-0.03974785,  0.04233589],\n",
       "        [-0.04955721,  0.01026224],\n",
       "        [ 0.04158724, -0.00358738]],\n",
       "\n",
       "       [[ 0.0251422 , -0.02188599],\n",
       "        [ 0.0251422 , -0.02188599],\n",
       "        [-0.04047686,  0.00310308],\n",
       "        [-0.04047686,  0.00310308],\n",
       "        [ 0.02323438,  0.03360286]],\n",
       "\n",
       "       [[ 0.0251422 , -0.02188599],\n",
       "        [ 0.0251422 , -0.02188599],\n",
       "        [ 0.0361835 ,  0.03058619],\n",
       "        [ 0.0361835 ,  0.03058619],\n",
       "        [ 0.02323438,  0.03360286]]], dtype=float32)"
      ]
     },
     "execution_count": 14,
     "metadata": {},
     "output_type": "execute_result"
    }
   ],
   "source": [
    "model.predict(sequences)"
   ]
  },
  {
   "cell_type": "code",
   "execution_count": 15,
   "metadata": {
    "colab": {
     "base_uri": "https://localhost:8080/"
    },
    "id": "16qYHVwyXBZD",
    "outputId": "79cdeb85-3d00-45fa-a95c-3948e9a81429"
   },
   "outputs": [
    {
     "name": "stdout",
     "output_type": "stream",
     "text": [
      "Downloading data from https://storage.googleapis.com/tensorflow/tf-keras-datasets/imdb.npz\n",
      "17464789/17464789 [==============================] - 2s 0us/step\n"
     ]
    }
   ],
   "source": [
    "data = imdb.load_data()"
   ]
  },
  {
   "cell_type": "code",
   "execution_count": 16,
   "metadata": {
    "id": "HJuDPeZIXDpe"
   },
   "outputs": [],
   "source": [
    "(x_train,y_train), (x_test,y_test)  = data"
   ]
  },
  {
   "cell_type": "code",
   "execution_count": 17,
   "metadata": {
    "colab": {
     "base_uri": "https://localhost:8080/"
    },
    "id": "TqpJmuIcXIg2",
    "outputId": "1881162a-b1ca-461a-e1c9-1fe4d1eed0bf"
   },
   "outputs": [
    {
     "data": {
      "text/plain": [
       "(25000,)"
      ]
     },
     "execution_count": 17,
     "metadata": {},
     "output_type": "execute_result"
    }
   ],
   "source": [
    "x_train.shape"
   ]
  },
  {
   "cell_type": "code",
   "execution_count": 18,
   "metadata": {
    "colab": {
     "base_uri": "https://localhost:8080/"
    },
    "id": "_wV4nvzEapvV",
    "outputId": "699375d6-ad61-4362-fe73-f2ce957f1964"
   },
   "outputs": [
    {
     "data": {
      "text/plain": [
       "array([1, 0, 0, 1])"
      ]
     },
     "execution_count": 18,
     "metadata": {},
     "output_type": "execute_result"
    }
   ],
   "source": [
    "y_train[:4]"
   ]
  },
  {
   "cell_type": "code",
   "execution_count": 19,
   "metadata": {
    "id": "ewBAdLhLXJ1N"
   },
   "outputs": [],
   "source": [
    "x_train = pad_sequences(x_train)\n",
    "x_test = pad_sequences(x_test)"
   ]
  },
  {
   "cell_type": "code",
   "execution_count": 20,
   "metadata": {
    "colab": {
     "base_uri": "https://localhost:8080/"
    },
    "id": "hYuHhBbsa4J1",
    "outputId": "c6c0c3a7-3ed6-4512-a152-ad97a34f4fb5"
   },
   "outputs": [
    {
     "data": {
      "text/plain": [
       "(25000, 2494)"
      ]
     },
     "execution_count": 20,
     "metadata": {},
     "output_type": "execute_result"
    }
   ],
   "source": [
    "x_train.shape"
   ]
  },
  {
   "cell_type": "code",
   "execution_count": 21,
   "metadata": {
    "colab": {
     "base_uri": "https://localhost:8080/"
    },
    "id": "DlHq9nOCa6mu",
    "outputId": "ca6ef801-7486-4d30-bda4-329c3d320160"
   },
   "outputs": [
    {
     "data": {
      "text/plain": [
       "(25000, 2315)"
      ]
     },
     "execution_count": 21,
     "metadata": {},
     "output_type": "execute_result"
    }
   ],
   "source": [
    "x_test.shape"
   ]
  },
  {
   "cell_type": "code",
   "execution_count": 22,
   "metadata": {
    "colab": {
     "base_uri": "https://localhost:8080/"
    },
    "id": "nIE_bQfKa8L0",
    "outputId": "00432f3f-2e91-4d33-9dd7-0e475b94f8d1"
   },
   "outputs": [
    {
     "name": "stdout",
     "output_type": "stream",
     "text": [
      "Model: \"sequential_2\"\n",
      "_________________________________________________________________\n",
      " Layer (type)                Output Shape              Param #   \n",
      "=================================================================\n",
      " embedding_2 (Embedding)     (None, 2494, 2)           20000     \n",
      "                                                                 \n",
      " simple_rnn (SimpleRNN)      (None, 32)                1120      \n",
      "                                                                 \n",
      " dense (Dense)               (None, 1)                 33        \n",
      "                                                                 \n",
      "=================================================================\n",
      "Total params: 21153 (82.63 KB)\n",
      "Trainable params: 21153 (82.63 KB)\n",
      "Non-trainable params: 0 (0.00 Byte)\n",
      "_________________________________________________________________\n"
     ]
    }
   ],
   "source": [
    "model_imdb = Sequential()\n",
    "model_imdb.add(Embedding(10000, output_dim = 2,input_length= 2494))\n",
    "model_imdb.add(SimpleRNN(32,return_sequences=False))\n",
    "model_imdb.add(Dense(1, activation='sigmoid'))\n",
    "\n",
    "model_imdb.summary()"
   ]
  },
  {
   "cell_type": "code",
   "execution_count": 23,
   "metadata": {
    "id": "NCjvQANEb7Wo"
   },
   "outputs": [],
   "source": [
    "model_imdb.compile(loss='binary_crossentropy', optimizer='adam', metrics=['accuracy'])"
   ]
  },
  {
   "cell_type": "code",
   "execution_count": null,
   "metadata": {
    "colab": {
     "base_uri": "https://localhost:8080/"
    },
    "id": "YB59O3EjcO1Q",
    "outputId": "b8d4acdd-efc3-42e9-8554-44dd7a6b1a82"
   },
   "outputs": [
    {
     "name": "stdout",
     "output_type": "stream",
     "text": [
      "Epoch 1/10\n",
      " 71/313 [=====>........................] - ETA: 10:26 - loss: 0.6990 - accuracy: 0.4897"
     ]
    }
   ],
   "source": [
    "history = model_imdb.fit(x_train, y_train, epochs=10, validation_split=0.2, batch_size=64)"
   ]
  },
  {
   "cell_type": "code",
   "execution_count": null,
   "metadata": {
    "id": "dIpyWw2ecWXO"
   },
   "outputs": [],
   "source": [
    "history.history"
   ]
  },
  {
   "cell_type": "code",
   "execution_count": null,
   "metadata": {},
   "outputs": [],
   "source": [
    "history.history['loss']"
   ]
  },
  {
   "cell_type": "code",
   "execution_count": null,
   "metadata": {},
   "outputs": [],
   "source": [
    "import matplotlib.pyplot as plt\n",
    "\n",
    "plt.plot(history.history['loss'], history.history['val_loss'])"
   ]
  },
  {
   "cell_type": "code",
   "execution_count": null,
   "metadata": {},
   "outputs": [],
   "source": [
    "plt.plot(history.history['accuracy'],history.history['val_accuracy'])"
   ]
  }
 ],
 "metadata": {
  "accelerator": "GPU",
  "colab": {
   "gpuType": "T4",
   "provenance": []
  },
  "kernelspec": {
   "display_name": "Python 3 (ipykernel)",
   "language": "python",
   "name": "python3"
  },
  "language_info": {
   "codemirror_mode": {
    "name": "ipython",
    "version": 3
   },
   "file_extension": ".py",
   "mimetype": "text/x-python",
   "name": "python",
   "nbconvert_exporter": "python",
   "pygments_lexer": "ipython3",
   "version": "3.10.0"
  }
 },
 "nbformat": 4,
 "nbformat_minor": 4
}
