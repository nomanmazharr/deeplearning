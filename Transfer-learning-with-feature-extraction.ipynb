{
 "cells": [
  {
   "cell_type": "markdown",
   "id": "49d37eff-043e-413e-bbc2-c0acdc4820dd",
   "metadata": {},
   "source": [
    "### Downloading data from Kaggle using API"
   ]
  },
  {
   "cell_type": "code",
   "execution_count": null,
   "id": "28b86039-5992-41ff-927b-bce08a5673f5",
   "metadata": {},
   "outputs": [],
   "source": [
    "!mkdir -p ~/.kaggle\n",
    "!cp kaggle.json ~/.kaggle/"
   ]
  },
  {
   "cell_type": "code",
   "execution_count": null,
   "id": "672838a3-8463-4a81-9537-03c7a502b359",
   "metadata": {},
   "outputs": [],
   "source": [
    "!kaggle datasets download -d salader/dogs-vs-cats"
   ]
  },
  {
   "cell_type": "code",
   "execution_count": null,
   "id": "b9ea81bc-3c6d-43aa-b73a-d90106912d19",
   "metadata": {},
   "outputs": [],
   "source": [
    "!unzip '/content/dogs-vs-cats.zip'"
   ]
  },
  {
   "cell_type": "markdown",
   "id": "655be7ef-5450-4b32-8605-c16d50b6853a",
   "metadata": {},
   "source": [
    "### Importing Libraries"
   ]
  },
  {
   "cell_type": "code",
   "execution_count": null,
   "id": "d5513f5c-5beb-4886-9c7a-a035196035e3",
   "metadata": {},
   "outputs": [],
   "source": [
    "import tensorflow as tf\n",
    "from tensorflow import keras\n",
    "from keras.applications.vgg19 import VGG19\n",
    "from keras.layers import Dense, Flatten\n",
    "from keras.models import Sequential"
   ]
  },
  {
   "cell_type": "markdown",
   "id": "0e0481a3-3fa5-4a8c-9633-d41591df49d9",
   "metadata": {},
   "source": [
    "### Checking dataset length"
   ]
  },
  {
   "cell_type": "code",
   "execution_count": null,
   "id": "7f94bde7-5c53-43a4-8543-b46f787098be",
   "metadata": {},
   "outputs": [],
   "source": [
    "import os\n",
    "\n",
    "x = os.listdir('/content/test/cats')\n",
    "len(x)"
   ]
  },
  {
   "cell_type": "markdown",
   "id": "30a71b3f-ea63-4af6-8b5d-ed3d1dde043b",
   "metadata": {},
   "source": [
    "### Generating dataset for training"
   ]
  },
  {
   "cell_type": "code",
   "execution_count": null,
   "id": "033fff19-c003-4c25-8638-742ddb717d77",
   "metadata": {},
   "outputs": [],
   "source": [
    "train_generator = keras.utils.image_dataset_from_directory(\n",
    "    '/content/train',\n",
    "    image_size =(224,224)                     \n",
    ")\n",
    "\n",
    "valid_generator = keras.utils.image_dataset_from_directory(\n",
    "    '/content/test',\n",
    "    image_size = (224,224)\n",
    ")"
   ]
  },
  {
   "cell_type": "markdown",
   "id": "9a56bddb-720c-499a-9834-66aad0c2735f",
   "metadata": {},
   "source": [
    "### Loading VGG19 model"
   ]
  },
  {
   "cell_type": "code",
   "execution_count": null,
   "id": "753783ed-423f-4a85-9f18-7bdae44c6eca",
   "metadata": {},
   "outputs": [],
   "source": [
    "conv_layers = VGG19(\n",
    "    weights='imagenet',\n",
    "    classifier_activation = 'binary_crossentropy',\n",
    "    classes =2,\n",
    "    # includ_top = False means model will only take layers till Flatten layers like FCN will be given of our own choice which is transfer learning\n",
    "    include_top = False,\n",
    "    input_shape = (224,224,3),\n",
    ")"
   ]
  },
  {
   "cell_type": "code",
   "execution_count": null,
   "id": "c5a16e48-1d2c-439c-8915-d4be58070e2b",
   "metadata": {},
   "outputs": [],
   "source": [
    "conv_layers.summary()"
   ]
  },
  {
   "cell_type": "markdown",
   "id": "34fa0b6f-5aa6-430e-bb47-094297e2ca68",
   "metadata": {},
   "source": [
    "#### Disabling the weights for Convolution layers"
   ]
  },
  {
   "cell_type": "code",
   "execution_count": null,
   "id": "a603631d-4f0f-4f34-889f-6ee0b2e0f32c",
   "metadata": {},
   "outputs": [],
   "source": [
    "conv_layers.trainable = False"
   ]
  },
  {
   "cell_type": "code",
   "execution_count": null,
   "id": "80254c73-c46b-43ba-afe8-6702ac46ce84",
   "metadata": {},
   "outputs": [],
   "source": [
    "model.summary()"
   ]
  },
  {
   "cell_type": "code",
   "execution_count": null,
   "id": "64c4f025-baf2-4a6a-b70d-e0e018e6f231",
   "metadata": {},
   "outputs": [],
   "source": [
    "model.compile(optimizer='adam', metrics=['accuracy'],loss='binary_crossentropy')"
   ]
  },
  {
   "cell_type": "code",
   "execution_count": null,
   "id": "0f9acac5-0cc7-4b8a-87ab-8097c826b40f",
   "metadata": {},
   "outputs": [],
   "source": [
    "history = model.fit(train_generator, epochs=10, validation_data=valid_generator,batch_size=32)"
   ]
  }
 ],
 "metadata": {
  "kernelspec": {
   "display_name": "Python 3 (ipykernel)",
   "language": "python",
   "name": "python3"
  },
  "language_info": {
   "codemirror_mode": {
    "name": "ipython",
    "version": 3
   },
   "file_extension": ".py",
   "mimetype": "text/x-python",
   "name": "python",
   "nbconvert_exporter": "python",
   "pygments_lexer": "ipython3",
   "version": "3.10.0"
  }
 },
 "nbformat": 4,
 "nbformat_minor": 5
}
