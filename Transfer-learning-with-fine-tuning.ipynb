{
 "cells": [
  {
   "cell_type": "code",
   "execution_count": null,
   "id": "96b20fdb-3385-4245-a46f-45b3e3cb3660",
   "metadata": {},
   "outputs": [],
   "source": [
    "!mkdir -p ~/.kaggle\n",
    "!cp kaggle.json ~/.kaggle/"
   ]
  },
  {
   "cell_type": "code",
   "execution_count": null,
   "id": "5d4bbde0-0cea-4acf-9906-de5afbbdedd8",
   "metadata": {},
   "outputs": [],
   "source": [
    "!kaggle datasets download -d angelolmg/tilda-400-64x64-patches"
   ]
  },
  {
   "cell_type": "code",
   "execution_count": null,
   "id": "7f2cdee5-ce8f-4847-a511-febcacd140f1",
   "metadata": {},
   "outputs": [],
   "source": [
    "!unzip '/content/tilda-400-64x64-patches.zip' -d '/content/dataset'"
   ]
  },
  {
   "cell_type": "code",
   "execution_count": null,
   "id": "a9561639-9ce6-4ee5-bd0b-8cffa68ae750",
   "metadata": {},
   "outputs": [],
   "source": [
    "import tensorflow as tf\n",
    "from tensorflow import keras\n",
    "from keras.models import Sequential\n",
    "from keras.layers import Dense, Flatten\n",
    "from keras.applications.vgg19 import VGG19\n",
    "from tensorflow.keras.preprocessing.image import ImageDataGenerator"
   ]
  },
  {
   "cell_type": "code",
   "execution_count": null,
   "id": "5388c199-8fd2-4591-8c4b-dabf01f65049",
   "metadata": {},
   "outputs": [],
   "source": [
    "import os\n",
    "x = os.listdir('/content/dataset/thread-error')\n",
    "len(x)"
   ]
  },
  {
   "cell_type": "code",
   "execution_count": null,
   "id": "259b8f9f-4260-4317-9b4a-fd35b04878b6",
   "metadata": {},
   "outputs": [],
   "source": [
    "import os\n",
    "import shutil\n",
    "\n",
    "def copy_images(source_dir, target_dir, num_images_from_good):\n",
    "    # Create target directory if it doesn't exist\n",
    "    if not os.path.exists(target_dir):\n",
    "        os.makedirs(target_dir)\n",
    "\n",
    "    # Copy images from other directories\n",
    "    for class_name in os.listdir(source_dir):\n",
    "        if class_name == 'good':\n",
    "            continue  # Skip 'good' directory for now\n",
    "        class_dir = os.path.join(source_dir, class_name)\n",
    "        target_class_dir = os.path.join(target_dir, class_name)\n",
    "        shutil.copytree(class_dir, target_class_dir)\n",
    "\n",
    "    # Copy only 800 images from the 'good' directory\n",
    "    good_dir = os.path.join(source_dir, 'good')\n",
    "    target_good_dir = os.path.join(target_dir, 'good')\n",
    "    os.makedirs(target_good_dir)\n",
    "    good_images = os.listdir(good_dir)[:num_images_from_good]\n",
    "    for img in good_images:\n",
    "        img_path = os.path.join(good_dir, img)\n",
    "        shutil.copy(img_path, target_good_dir)\n",
    "\n",
    "# Define source and target directories\n",
    "source_directory = '/content/dataset'\n",
    "target_directory = '/content/data'\n",
    "num_images_from_good = 800\n",
    "\n",
    "# Copy images to target directory\n",
    "copy_images(source_directory, target_directory, num_images_from_good)"
   ]
  },
  {
   "cell_type": "code",
   "execution_count": null,
   "id": "0b86f0bb-b2de-4914-b7bd-6c7faa60f14b",
   "metadata": {},
   "outputs": [],
   "source": [
    "import os \n",
    "d = os.listdir('/content/data/good')\n",
    "len(d)"
   ]
  },
  {
   "cell_type": "code",
   "execution_count": null,
   "id": "d66c724e-309a-4772-a2ef-239de0bd3913",
   "metadata": {},
   "outputs": [],
   "source": [
    "datagen = ImageDataGenerator(\n",
    "    rescale = 1./255,\n",
    "    zoom_range = 0.3,\n",
    "    shear_range = 0.2,\n",
    "    vertical_flip = 'True',\n",
    "    horizontal_flip = 'True'\n",
    ")"
   ]
  },
  {
   "cell_type": "code",
   "execution_count": null,
   "id": "55fe92ca-304b-40c6-b3d3-0a1ce8712ff4",
   "metadata": {},
   "outputs": [],
   "source": [
    "train_gen = datagen.flow_from_directory(\n",
    "    '/content/data',\n",
    "    target_size = (64,64),\n",
    "    classes = ['good', 'hole', 'objects', 'oil-spot', 'thread-error']\n",
    ")"
   ]
  },
  {
   "cell_type": "code",
   "execution_count": null,
   "id": "eae57898-cfea-4ec0-a20d-26e3cabe65a3",
   "metadata": {},
   "outputs": [],
   "source": [
    "train_gen.labels"
   ]
  },
  {
   "cell_type": "code",
   "execution_count": null,
   "id": "a2897f1c-19d7-4207-8ecf-453cfe08665c",
   "metadata": {},
   "outputs": [],
   "source": [
    "train_gen.num_classes"
   ]
  },
  {
   "cell_type": "code",
   "execution_count": null,
   "id": "b742d0a5-9068-46b9-8bd9-9162fc221d7e",
   "metadata": {},
   "outputs": [],
   "source": [
    "train_gen.class_mode"
   ]
  },
  {
   "cell_type": "code",
   "execution_count": null,
   "id": "441ac059-fa99-43d1-b221-888f439546b1",
   "metadata": {},
   "outputs": [],
   "source": [
    "train_gen.image_shape"
   ]
  },
  {
   "cell_type": "code",
   "execution_count": null,
   "id": "50f1f21f-663b-4330-b66a-2faeecf1ead1",
   "metadata": {},
   "outputs": [],
   "source": [
    "conv = VGG19(\n",
    "    input_shape = (64,64,3),\n",
    "    include_top = False\n",
    ")"
   ]
  },
  {
   "cell_type": "code",
   "execution_count": null,
   "id": "c65b9282-acd2-4886-a273-6fb198e252fc",
   "metadata": {},
   "outputs": [],
   "source": [
    "conv.summary()"
   ]
  },
  {
   "cell_type": "code",
   "execution_count": null,
   "id": "b41ea38d-4b0d-44db-85ea-ea04c6fba88a",
   "metadata": {},
   "outputs": [],
   "source": [
    "conv.trainable = False"
   ]
  },
  {
   "cell_type": "code",
   "execution_count": null,
   "id": "4ddd5e7d-3c68-4595-9ef2-b2eef2aa8fc9",
   "metadata": {},
   "outputs": [],
   "source": [
    "conv.summary()"
   ]
  },
  {
   "cell_type": "code",
   "execution_count": null,
   "id": "085b6379-a85d-46d8-a0b9-594cb0b762ad",
   "metadata": {},
   "outputs": [],
   "source": [
    "model_without_fine_tuning = Sequential()\n",
    "model_without_fine_tuning.add(conv)\n",
    "model_without_fine_tuning.add(Flatten())\n",
    "model_without_fine_tuning.add(Dense(256,activation='relu'))\n",
    "model_without_fine_tuning.add(Dense(5,activation='softmax'))"
   ]
  },
  {
   "cell_type": "code",
   "execution_count": null,
   "id": "004823d6-d01a-4b7b-ad96-f366a89e75ac",
   "metadata": {},
   "outputs": [],
   "source": [
    "model_without_fine_tuning.summary()"
   ]
  },
  {
   "cell_type": "code",
   "execution_count": null,
   "id": "2c3df8be-d8d0-4032-ab2c-b18711c88939",
   "metadata": {},
   "outputs": [],
   "source": [
    "model_without_fine_tuning.compile(loss='categorical_crossentropy', metrics=['accuracy'], optimizer='adam')"
   ]
  },
  {
   "cell_type": "code",
   "execution_count": null,
   "id": "6efb2914-93fe-47f2-9df1-1406692daec8",
   "metadata": {},
   "outputs": [],
   "source": [
    "history = model_without_fine_tuning.fit_generator(train_gen,epochs=10)"
   ]
  },
  {
   "cell_type": "code",
   "execution_count": null,
   "id": "d8d68198-c33d-4f05-88ca-2d75764c4360",
   "metadata": {},
   "outputs": [],
   "source": []
  }
 ],
 "metadata": {
  "kernelspec": {
   "display_name": "Python 3 (ipykernel)",
   "language": "python",
   "name": "python3"
  },
  "language_info": {
   "codemirror_mode": {
    "name": "ipython",
    "version": 3
   },
   "file_extension": ".py",
   "mimetype": "text/x-python",
   "name": "python",
   "nbconvert_exporter": "python",
   "pygments_lexer": "ipython3",
   "version": "3.10.0"
  }
 },
 "nbformat": 4,
 "nbformat_minor": 5
}
