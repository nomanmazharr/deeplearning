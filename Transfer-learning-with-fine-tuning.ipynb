{
 "cells": [
  {
   "cell_type": "code",
   "execution_count": null,
   "id": "96b20fdb-3385-4245-a46f-45b3e3cb3660",
   "metadata": {},
   "outputs": [],
   "source": [
    "!mkdir -p ~/.kaggle\n",
    "!cp kaggle.json ~/.kaggle/"
   ]
  },
  {
   "cell_type": "code",
   "execution_count": null,
   "id": "5d4bbde0-0cea-4acf-9906-de5afbbdedd8",
   "metadata": {},
   "outputs": [],
   "source": [
    "!kaggle datasets download -d angelolmg/tilda-400-64x64-patches"
   ]
  },
  {
   "cell_type": "code",
   "execution_count": null,
   "id": "7f2cdee5-ce8f-4847-a511-febcacd140f1",
   "metadata": {},
   "outputs": [],
   "source": [
    "!unzip '/content/tilda-400-64x64-patches.zip' -d '/content/dataset'"
   ]
  },
  {
   "cell_type": "code",
   "execution_count": null,
   "id": "a9561639-9ce6-4ee5-bd0b-8cffa68ae750",
   "metadata": {},
   "outputs": [],
   "source": [
    "import tensorflow as tf\n",
    "from tensorflow import keras\n",
    "from keras.models import Sequential\n",
    "from keras.layers import Dense, Flatten\n",
    "from keras.applications.vgg19 import VGG19\n",
    "from tensorflow.keras.preprocessing.image import ImageDataGenerator"
   ]
  },
  {
   "cell_type": "code",
   "execution_count": null,
   "id": "5388c199-8fd2-4591-8c4b-dabf01f65049",
   "metadata": {},
   "outputs": [],
   "source": [
    "import os\n",
    "x = os.listdir('/content/dataset/thread-error')\n",
    "len(x)"
   ]
  },
  {
   "cell_type": "code",
   "execution_count": null,
   "id": "259b8f9f-4260-4317-9b4a-fd35b04878b6",
   "metadata": {},
   "outputs": [],
   "source": []
  },
  {
   "cell_type": "code",
   "execution_count": null,
   "id": "0b86f0bb-b2de-4914-b7bd-6c7faa60f14b",
   "metadata": {},
   "outputs": [],
   "source": []
  },
  {
   "cell_type": "code",
   "execution_count": null,
   "id": "d66c724e-309a-4772-a2ef-239de0bd3913",
   "metadata": {},
   "outputs": [],
   "source": []
  }
 ],
 "metadata": {
  "kernelspec": {
   "display_name": "Python 3 (ipykernel)",
   "language": "python",
   "name": "python3"
  },
  "language_info": {
   "codemirror_mode": {
    "name": "ipython",
    "version": 3
   },
   "file_extension": ".py",
   "mimetype": "text/x-python",
   "name": "python",
   "nbconvert_exporter": "python",
   "pygments_lexer": "ipython3",
   "version": "3.10.0"
  }
 },
 "nbformat": 4,
 "nbformat_minor": 5
}
