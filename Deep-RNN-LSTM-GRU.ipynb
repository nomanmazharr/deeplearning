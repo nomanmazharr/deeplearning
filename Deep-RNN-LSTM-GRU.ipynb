{
  "nbformat": 4,
  "nbformat_minor": 0,
  "metadata": {
    "colab": {
      "provenance": [],
      "gpuType": "T4"
    },
    "kernelspec": {
      "name": "python3",
      "display_name": "Python 3"
    },
    "language_info": {
      "name": "python"
    },
    "accelerator": "GPU"
  },
  "cells": [
    {
      "cell_type": "code",
      "source": [
        "from tensorflow.keras.datasets import imdb"
      ],
      "metadata": {
        "id": "I8KJFwn3h_ux"
      },
      "execution_count": null,
      "outputs": []
    },
    {
      "cell_type": "code",
      "source": [
        "(x_train, y_train), (x_test, y_test) = imdb.load_data()"
      ],
      "metadata": {
        "id": "uFwvHKXciKcs"
      },
      "execution_count": null,
      "outputs": []
    },
    {
      "cell_type": "code",
      "source": [
        "x_train.shape"
      ],
      "metadata": {
        "colab": {
          "base_uri": "https://localhost:8080/"
        },
        "id": "hKB4NXWDiUOg",
        "outputId": "f8018d98-c537-49ea-c0a5-a1584b72fa77"
      },
      "execution_count": null,
      "outputs": [
        {
          "output_type": "execute_result",
          "data": {
            "text/plain": [
              "(25000,)"
            ]
          },
          "metadata": {},
          "execution_count": 7
        }
      ]
    },
    {
      "cell_type": "code",
      "source": [
        "y_test.shape"
      ],
      "metadata": {
        "colab": {
          "base_uri": "https://localhost:8080/"
        },
        "id": "vluK_jV6iihn",
        "outputId": "960f341e-904a-4a88-9cdb-e78dff79c24e"
      },
      "execution_count": null,
      "outputs": [
        {
          "output_type": "execute_result",
          "data": {
            "text/plain": [
              "(25000,)"
            ]
          },
          "metadata": {},
          "execution_count": 10
        }
      ]
    },
    {
      "cell_type": "code",
      "source": [
        "len(x_train[1])"
      ],
      "metadata": {
        "colab": {
          "base_uri": "https://localhost:8080/"
        },
        "id": "aeML4O7lij6k",
        "outputId": "25458136-5541-4659-a361-80a10061afeb"
      },
      "execution_count": null,
      "outputs": [
        {
          "output_type": "execute_result",
          "data": {
            "text/plain": [
              "189"
            ]
          },
          "metadata": {},
          "execution_count": 15
        }
      ]
    },
    {
      "cell_type": "code",
      "source": [
        "len(x_train[0])"
      ],
      "metadata": {
        "colab": {
          "base_uri": "https://localhost:8080/"
        },
        "id": "J2q8r3Ooiri0",
        "outputId": "5a9dd307-757f-425e-b880-6d495d07d7ba"
      },
      "execution_count": null,
      "outputs": [
        {
          "output_type": "execute_result",
          "data": {
            "text/plain": [
              "218"
            ]
          },
          "metadata": {},
          "execution_count": 16
        }
      ]
    },
    {
      "cell_type": "code",
      "source": [
        "from tensorflow.keras.preprocessing.sequence import pad_sequences\n",
        "\n",
        "x_train_padding = pad_sequences(x_train, maxlen=100)\n",
        "x_test_padding = pad_sequences(x_test, maxlen=100)"
      ],
      "metadata": {
        "id": "6k5LuBiGizla"
      },
      "execution_count": null,
      "outputs": []
    },
    {
      "cell_type": "code",
      "source": [
        "len(x_train_padding[0])"
      ],
      "metadata": {
        "colab": {
          "base_uri": "https://localhost:8080/"
        },
        "id": "1XgbUiiPi__m",
        "outputId": "eb637b4f-644d-4620-e5ea-0efb90c5ad93"
      },
      "execution_count": null,
      "outputs": [
        {
          "output_type": "execute_result",
          "data": {
            "text/plain": [
              "100"
            ]
          },
          "metadata": {},
          "execution_count": 22
        }
      ]
    },
    {
      "cell_type": "code",
      "source": [
        "y_train[0]"
      ],
      "metadata": {
        "colab": {
          "base_uri": "https://localhost:8080/"
        },
        "id": "xMGaM0xdjDDK",
        "outputId": "92e19303-0051-4689-a060-930aa26537d6"
      },
      "execution_count": null,
      "outputs": [
        {
          "output_type": "execute_result",
          "data": {
            "text/plain": [
              "1"
            ]
          },
          "metadata": {},
          "execution_count": 19
        }
      ]
    },
    {
      "cell_type": "code",
      "source": [
        "y_train"
      ],
      "metadata": {
        "colab": {
          "base_uri": "https://localhost:8080/"
        },
        "id": "9TLrFbpNjLWk",
        "outputId": "cc5ebd85-4237-41ba-98d9-f6c9f02cb93a"
      },
      "execution_count": null,
      "outputs": [
        {
          "output_type": "execute_result",
          "data": {
            "text/plain": [
              "array([1, 0, 0, ..., 0, 1, 0])"
            ]
          },
          "metadata": {},
          "execution_count": 20
        }
      ]
    },
    {
      "cell_type": "code",
      "source": [
        "from tensorflow.keras.models import Sequential\n",
        "from tensorflow.keras.layers import SimpleRNN, LSTM, GRU, Embedding, Dense"
      ],
      "metadata": {
        "id": "QymVoq-DjMdE"
      },
      "execution_count": 35,
      "outputs": []
    },
    {
      "cell_type": "code",
      "source": [
        "model = Sequential()\n",
        "model.add(Embedding(10000, 32, input_length=100))\n",
        "model.add(SimpleRNN(5, return_sequences=True))\n",
        "model.add(SimpleRNN(5))\n",
        "\n",
        "model.add(Dense(1, activation='sigmoid'))\n",
        "\n",
        "model.summary()"
      ],
      "metadata": {
        "id": "gPxDAbfsjfSm",
        "colab": {
          "base_uri": "https://localhost:8080/"
        },
        "outputId": "8aa1bfd0-5fde-4d94-9563-8477b55996c1"
      },
      "execution_count": 36,
      "outputs": [
        {
          "output_type": "stream",
          "name": "stdout",
          "text": [
            "Model: \"sequential\"\n",
            "_________________________________________________________________\n",
            " Layer (type)                Output Shape              Param #   \n",
            "=================================================================\n",
            " embedding (Embedding)       (None, 100, 32)           320000    \n",
            "                                                                 \n",
            " simple_rnn (SimpleRNN)      (None, 100, 5)            190       \n",
            "                                                                 \n",
            " simple_rnn_1 (SimpleRNN)    (None, 5)                 55        \n",
            "                                                                 \n",
            " dense (Dense)               (None, 1)                 6         \n",
            "                                                                 \n",
            "=================================================================\n",
            "Total params: 320251 (1.22 MB)\n",
            "Trainable params: 320251 (1.22 MB)\n",
            "Non-trainable params: 0 (0.00 Byte)\n",
            "_________________________________________________________________\n"
          ]
        }
      ]
    },
    {
      "cell_type": "code",
      "source": [
        "model.compile(optimizer='adam', loss='binary_crossentropy' ,metrics=['accuracy'] )"
      ],
      "metadata": {
        "id": "_4p8ZoyGqp4N"
      },
      "execution_count": 37,
      "outputs": []
    },
    {
      "cell_type": "code",
      "source": [
        "model.fit(x_train_padding,y_train, epochs=10, validation_data=(x_test_padding,y_test))"
      ],
      "metadata": {
        "colab": {
          "base_uri": "https://localhost:8080/"
        },
        "id": "zcu1lyXSq7GT",
        "outputId": "e7fe4d8b-4dd2-48fd-f8c6-76eca9b43d90"
      },
      "execution_count": 42,
      "outputs": [
        {
          "output_type": "stream",
          "name": "stdout",
          "text": [
            "Epoch 1/10\n",
            "782/782 [==============================] - 183s 232ms/step - loss: 0.5307 - accuracy: 0.7386 - val_loss: 0.4594 - val_accuracy: 0.7972\n",
            "Epoch 2/10\n",
            "782/782 [==============================] - 152s 195ms/step - loss: 0.3847 - accuracy: 0.8383 - val_loss: 0.4815 - val_accuracy: 0.7810\n",
            "Epoch 3/10\n",
            "782/782 [==============================] - 151s 193ms/step - loss: 0.3449 - accuracy: 0.8588 - val_loss: 0.4479 - val_accuracy: 0.8074\n",
            "Epoch 4/10\n",
            "782/782 [==============================] - 162s 207ms/step - loss: 0.2623 - accuracy: 0.8984 - val_loss: 0.4808 - val_accuracy: 0.8012\n",
            "Epoch 5/10\n",
            "782/782 [==============================] - 168s 215ms/step - loss: 0.2243 - accuracy: 0.9148 - val_loss: 0.5063 - val_accuracy: 0.8030\n",
            "Epoch 6/10\n",
            "782/782 [==============================] - 163s 209ms/step - loss: 0.1646 - accuracy: 0.9431 - val_loss: 0.5469 - val_accuracy: 0.7925\n",
            "Epoch 7/10\n",
            "782/782 [==============================] - 156s 199ms/step - loss: 0.1538 - accuracy: 0.9466 - val_loss: 0.6595 - val_accuracy: 0.7456\n",
            "Epoch 8/10\n",
            "782/782 [==============================] - 154s 197ms/step - loss: 0.1454 - accuracy: 0.9475 - val_loss: 0.6399 - val_accuracy: 0.7818\n",
            "Epoch 9/10\n",
            "782/782 [==============================] - 157s 201ms/step - loss: 0.1084 - accuracy: 0.9643 - val_loss: 0.6726 - val_accuracy: 0.7830\n",
            "Epoch 10/10\n",
            "782/782 [==============================] - 150s 192ms/step - loss: 0.0897 - accuracy: 0.9712 - val_loss: 0.7250 - val_accuracy: 0.7846\n"
          ]
        },
        {
          "output_type": "execute_result",
          "data": {
            "text/plain": [
              "<keras.src.callbacks.History at 0x7896a3fd2590>"
            ]
          },
          "metadata": {},
          "execution_count": 42
        }
      ]
    },
    {
      "cell_type": "code",
      "source": [
        "model_LSTM = Sequential()\n",
        "\n",
        "model_LSTM.add(Embedding(10000,32,input_length=100))\n",
        "model_LSTM.add(LSTM(5, return_sequences=True))\n",
        "model_LSTM.add(LSTM(5))\n",
        "\n",
        "model_LSTM.add(Dense(1,activation='sigmoid'))"
      ],
      "metadata": {
        "id": "rBSd441orITB"
      },
      "execution_count": 45,
      "outputs": []
    },
    {
      "cell_type": "code",
      "source": [
        "model_LSTM.summary()"
      ],
      "metadata": {
        "colab": {
          "base_uri": "https://localhost:8080/"
        },
        "id": "8TlTA9_UzlqL",
        "outputId": "886e5555-3b70-4e4c-e773-0427c6fe7344"
      },
      "execution_count": 46,
      "outputs": [
        {
          "output_type": "stream",
          "name": "stdout",
          "text": [
            "Model: \"sequential_2\"\n",
            "_________________________________________________________________\n",
            " Layer (type)                Output Shape              Param #   \n",
            "=================================================================\n",
            " embedding_2 (Embedding)     (None, 100, 32)           320000    \n",
            "                                                                 \n",
            " lstm (LSTM)                 (None, 100, 5)            760       \n",
            "                                                                 \n",
            " lstm_1 (LSTM)               (None, 5)                 220       \n",
            "                                                                 \n",
            " dense_1 (Dense)             (None, 1)                 6         \n",
            "                                                                 \n",
            "=================================================================\n",
            "Total params: 320986 (1.22 MB)\n",
            "Trainable params: 320986 (1.22 MB)\n",
            "Non-trainable params: 0 (0.00 Byte)\n",
            "_________________________________________________________________\n"
          ]
        }
      ]
    },
    {
      "cell_type": "code",
      "source": [
        "model_LSTM.compile(optimizer='adam', loss='binary_crossentropy' ,metrics=['accuracy'] )"
      ],
      "metadata": {
        "id": "Dtcoy8PlzmZ9"
      },
      "execution_count": 47,
      "outputs": []
    },
    {
      "cell_type": "code",
      "source": [
        "model_LSTM.fit(x_train_padding,y_train, epochs=10, validation_data=(x_test_padding,y_test))"
      ],
      "metadata": {
        "id": "2VKi2gZR18eb",
        "outputId": "adea3ecf-5d64-46a6-8739-60cbd3771e08",
        "colab": {
          "base_uri": "https://localhost:8080/"
        }
      },
      "execution_count": null,
      "outputs": [
        {
          "output_type": "stream",
          "name": "stdout",
          "text": [
            "Epoch 1/10\n"
          ]
        }
      ]
    },
    {
      "cell_type": "code",
      "source": [],
      "metadata": {
        "id": "tqhz4F7F2BLM"
      },
      "execution_count": null,
      "outputs": []
    }
  ]
}