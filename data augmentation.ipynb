{
 "cells": [
  {
   "cell_type": "markdown",
   "id": "73887b37-6e18-4797-955e-a9224a139606",
   "metadata": {},
   "source": [
    "### Downloading data"
   ]
  },
  {
   "cell_type": "code",
   "execution_count": null,
   "id": "67b58db3-e524-4005-9b5f-2e97073e6775",
   "metadata": {},
   "outputs": [],
   "source": [
    "! mkdir ~/.kaggle\n",
    "! cp kaggle.json ~/.kaggle/"
   ]
  },
  {
   "cell_type": "code",
   "execution_count": null,
   "id": "79cebcb9-3c30-4d00-b961-ae7badfd5085",
   "metadata": {},
   "outputs": [],
   "source": [
    "!kaggle datasets download -d sunilthite/cat-or-dog-image-classification"
   ]
  },
  {
   "cell_type": "code",
   "execution_count": null,
   "id": "6921fd0e-fe3c-4860-abb2-64790a10f107",
   "metadata": {},
   "outputs": [],
   "source": [
    "!unzip /content/cat-or-dog-image-classification.zip"
   ]
  },
  {
   "cell_type": "markdown",
   "id": "f3aed36e-24da-43fc-9c10-76d291d19eb1",
   "metadata": {},
   "source": [
    "#### Reading image"
   ]
  },
  {
   "cell_type": "code",
   "execution_count": null,
   "id": "f3deb560-bc06-4d15-a31c-afdd10d852cc",
   "metadata": {},
   "outputs": [],
   "source": [
    "from PIL import Image\n",
    "\n",
    "Image.open('/content/Train/Cat/cat.10001.jpg')"
   ]
  },
  {
   "cell_type": "markdown",
   "id": "76d098cf-edbb-4588-a655-092835a017f3",
   "metadata": {},
   "source": [
    "### Importing Libraries"
   ]
  },
  {
   "cell_type": "code",
   "execution_count": null,
   "id": "580debc9-997a-4b4f-a4f9-2b1dc2ee6fba",
   "metadata": {},
   "outputs": [],
   "source": [
    "import os\n",
    "import tensorflow as tf\n",
    "from tensorflow import keras\n",
    "from keras.preprocessing.image import ImageDataGenerator\n",
    "from keras.layers import Conv2D,MaxPooling2D,Dense,Flatten\n",
    "from keras.models import Sequential"
   ]
  },
  {
   "cell_type": "code",
   "execution_count": null,
   "id": "c0a6edda-45cc-47fe-816e-f92d7c56ca7f",
   "metadata": {},
   "outputs": [],
   "source": [
    "# checking length of images\n",
    "print(len(os.listdir('/content/Train/Cat')))\n",
    "print(len(os.listdir('/content/Train/Dog')))\n",
    "\n",
    "# len('/content/Train/Cat')"
   ]
  },
  {
   "cell_type": "markdown",
   "id": "9fa51db9-b827-4fdc-b002-b48f2f479727",
   "metadata": {},
   "source": [
    "### Augmenting a single image"
   ]
  },
  {
   "cell_type": "code",
   "execution_count": null,
   "id": "ad19c27d-537b-42d4-abbe-c3c0a345beca",
   "metadata": {},
   "outputs": [],
   "source": [
    "import cv2\n",
    "import numpy as np\n",
    "\n",
    "img = cv2.imread('/content/Train/Dog/dog.10.jpg')\n",
    "img = cv2.cvtColor(img, cv2.COLOR_BGR2RGB)\n",
    "batch = img.reshape(1,292,269,3)\n",
    "# image = Image.open('/content/Train/Dog/dog.10.jpg')\n",
    "# image = np.array(image)\n",
    "# org_image = image.reshape(1,292,269,3)\n",
    "# org_image\n",
    "img"
   ]
  },
  {
   "cell_type": "code",
   "execution_count": null,
   "id": "5cff442a-eac2-4e56-a03f-93c9cca19344",
   "metadata": {},
   "outputs": [],
   "source": [
    "# Creating generator to pre-process image\n",
    "\n",
    "datagen = ImageDataGenerator(\n",
    "  rotation_range = 30,\n",
    "  # shear_range=  0.2,\n",
    "  zoom_range = 0.3,\n",
    "  horizontal_flip = True,\n",
    "  rescale = 1./255   \n",
    ")"
   ]
  },
  {
   "cell_type": "code",
   "execution_count": null,
   "id": "05d140d3-6d34-4522-a260-b1cac813e1ff",
   "metadata": {},
   "outputs": [],
   "source": [
    "i = 0\n",
    "for images in datagen.flow(batch, batch_size=1, save_to_dir='/content/augmented'):\n",
    "  i = i + 1\n",
    "  if i >10:\n",
    "    break"
   ]
  },
  {
   "cell_type": "markdown",
   "id": "745a7501-4310-4e3e-b8ea-a36cb7fca018",
   "metadata": {},
   "source": [
    "### Generating data for training and validation"
   ]
  },
  {
   "cell_type": "code",
   "execution_count": null,
   "id": "8e4737f4-f583-47b0-a9aa-835c20ff2448",
   "metadata": {},
   "outputs": [],
   "source": [
    "train_datagen = datagen.flow_from_directory(\n",
    "    '/content/Train',\n",
    "    target_size=(256,256),\n",
    "    batch_size=64,\n",
    "    class_mode='binary'\n",
    ")\n",
    "\n",
    "valid_datagen = datagen.flow_from_directory(\n",
    "    '/content/Test',\n",
    "    target_size=(256,256),\n",
    "    batch_size=64,\n",
    "    class_mode='binary'\n",
    ")"
   ]
  },
  {
   "cell_type": "markdown",
   "id": "86a2d569-5e05-4e0d-adf0-29b8e50297f1",
   "metadata": {},
   "source": [
    "### Model's Architecture\n",
    "- "
   ]
  },
  {
   "cell_type": "code",
   "execution_count": null,
   "id": "dc0c1d85-dbf0-4db2-bec9-341b3da58259",
   "metadata": {},
   "outputs": [],
   "source": []
  },
  {
   "cell_type": "code",
   "execution_count": null,
   "id": "4d466020-df84-4d1b-a14a-5c5a08b5fdbc",
   "metadata": {},
   "outputs": [],
   "source": []
  },
  {
   "cell_type": "code",
   "execution_count": null,
   "id": "edd22d66-195e-4424-b59e-938d1959bc41",
   "metadata": {},
   "outputs": [],
   "source": []
  },
  {
   "cell_type": "code",
   "execution_count": null,
   "id": "b2efc1e5-d302-45fe-b942-3f0b7d31344a",
   "metadata": {},
   "outputs": [],
   "source": []
  }
 ],
 "metadata": {
  "kernelspec": {
   "display_name": "Python 3 (ipykernel)",
   "language": "python",
   "name": "python3"
  },
  "language_info": {
   "codemirror_mode": {
    "name": "ipython",
    "version": 3
   },
   "file_extension": ".py",
   "mimetype": "text/x-python",
   "name": "python",
   "nbconvert_exporter": "python",
   "pygments_lexer": "ipython3",
   "version": "3.10.0"
  }
 },
 "nbformat": 4,
 "nbformat_minor": 5
}
