{
  "nbformat": 4,
  "nbformat_minor": 0,
  "metadata": {
    "colab": {
      "provenance": [],
      "gpuType": "T4"
    },
    "kernelspec": {
      "name": "python3",
      "display_name": "Python 3"
    },
    "language_info": {
      "name": "python"
    },
    "accelerator": "GPU"
  },
  "cells": [
    {
      "cell_type": "code",
      "execution_count": 1,
      "metadata": {
        "id": "wSFZKBtzWgo2"
      },
      "outputs": [],
      "source": [
        "from keras.datasets import imdb"
      ]
    },
    {
      "cell_type": "code",
      "source": [
        "dummy_data = [\n",
        "    'Dil Dil Pakistan',\n",
        "    'Jan Jan Pakistan',\n",
        "    'Dil Dil Pakistan',\n",
        "    'Jan Jan Pakistan',\n",
        "    'Aesi zameen or asman',\n",
        "    'in kay siwa jana kaha',\n",
        "    'Barhti rahay yeh dosti',\n",
        "    'chalta rahay yeh karwan',\n",
        "    'Dil Dil Pakistan',\n",
        "    'Jan Jan Pakistan'\n",
        "]"
      ],
      "metadata": {
        "id": "dbXCCaoZXSVb"
      },
      "execution_count": 2,
      "outputs": []
    },
    {
      "cell_type": "code",
      "source": [
        "from tensorflow.keras.preprocessing.text import Tokenizer"
      ],
      "metadata": {
        "id": "iMe3cTiAXSX4"
      },
      "execution_count": 3,
      "outputs": []
    },
    {
      "cell_type": "code",
      "source": [
        "tokens = Tokenizer()"
      ],
      "metadata": {
        "id": "gGGEiULsXSad"
      },
      "execution_count": 4,
      "outputs": []
    },
    {
      "cell_type": "code",
      "source": [
        "tokens.fit_on_texts(dummy_data)"
      ],
      "metadata": {
        "id": "k04hVbayXSc_"
      },
      "execution_count": 5,
      "outputs": []
    },
    {
      "cell_type": "code",
      "source": [
        "tokens.word_counts"
      ],
      "metadata": {
        "colab": {
          "base_uri": "https://localhost:8080/"
        },
        "id": "Vpwm2xFlXSfV",
        "outputId": "9e80d7a0-0a14-4eea-e2dc-ff0297004e94"
      },
      "execution_count": 6,
      "outputs": [
        {
          "output_type": "execute_result",
          "data": {
            "text/plain": [
              "OrderedDict([('dil', 6),\n",
              "             ('pakistan', 6),\n",
              "             ('jan', 6),\n",
              "             ('aesi', 1),\n",
              "             ('zameen', 1),\n",
              "             ('or', 1),\n",
              "             ('asman', 1),\n",
              "             ('in', 1),\n",
              "             ('kay', 1),\n",
              "             ('siwa', 1),\n",
              "             ('jana', 1),\n",
              "             ('kaha', 1),\n",
              "             ('barhti', 1),\n",
              "             ('rahay', 2),\n",
              "             ('yeh', 2),\n",
              "             ('dosti', 1),\n",
              "             ('chalta', 1),\n",
              "             ('karwan', 1)])"
            ]
          },
          "metadata": {},
          "execution_count": 6
        }
      ]
    },
    {
      "cell_type": "code",
      "source": [
        "sequences = tokens.texts_to_sequences(dummy_data)\n",
        "sequences"
      ],
      "metadata": {
        "colab": {
          "base_uri": "https://localhost:8080/"
        },
        "id": "HkibKP4jXShe",
        "outputId": "01e7509e-9eb3-45c6-cf60-b76c5d7945d7"
      },
      "execution_count": 7,
      "outputs": [
        {
          "output_type": "execute_result",
          "data": {
            "text/plain": [
              "[[1, 1, 2],\n",
              " [3, 3, 2],\n",
              " [1, 1, 2],\n",
              " [3, 3, 2],\n",
              " [6, 7, 8, 9],\n",
              " [10, 11, 12, 13, 14],\n",
              " [15, 4, 5, 16],\n",
              " [17, 4, 5, 18],\n",
              " [1, 1, 2],\n",
              " [3, 3, 2]]"
            ]
          },
          "metadata": {},
          "execution_count": 7
        }
      ]
    },
    {
      "cell_type": "code",
      "source": [
        "from keras.utils import pad_sequences"
      ],
      "metadata": {
        "id": "Eh_rFugHXSj5"
      },
      "execution_count": 8,
      "outputs": []
    },
    {
      "cell_type": "code",
      "source": [
        "sequences = pad_sequences(sequences)"
      ],
      "metadata": {
        "id": "hETcxudnXSmN"
      },
      "execution_count": 9,
      "outputs": []
    },
    {
      "cell_type": "code",
      "source": [
        "from keras.models import Sequential\n",
        "from keras.layers import Dense, SimpleRNN, Embedding"
      ],
      "metadata": {
        "id": "XeA2Huj9XSox"
      },
      "execution_count": 10,
      "outputs": []
    },
    {
      "cell_type": "code",
      "source": [
        "model = Sequential()\n",
        "\n",
        "model.add(Embedding(32, input_length=5, output_dim =2))\n",
        "\n",
        "model.summary()"
      ],
      "metadata": {
        "colab": {
          "base_uri": "https://localhost:8080/"
        },
        "id": "rZuKD1P1YtjJ",
        "outputId": "404d423e-1df1-4cba-f842-495579415cd9"
      },
      "execution_count": 12,
      "outputs": [
        {
          "output_type": "stream",
          "name": "stdout",
          "text": [
            "Model: \"sequential_1\"\n",
            "_________________________________________________________________\n",
            " Layer (type)                Output Shape              Param #   \n",
            "=================================================================\n",
            " embedding_1 (Embedding)     (None, 5, 2)              64        \n",
            "                                                                 \n",
            "=================================================================\n",
            "Total params: 64 (256.00 Byte)\n",
            "Trainable params: 64 (256.00 Byte)\n",
            "Non-trainable params: 0 (0.00 Byte)\n",
            "_________________________________________________________________\n"
          ]
        }
      ]
    },
    {
      "cell_type": "code",
      "source": [
        "model.compile('adam', 'accuracy')"
      ],
      "metadata": {
        "id": "ZYESM0iJYtlu"
      },
      "execution_count": 13,
      "outputs": []
    },
    {
      "cell_type": "code",
      "source": [
        "model.predict(sequences)"
      ],
      "metadata": {
        "colab": {
          "base_uri": "https://localhost:8080/"
        },
        "id": "miW3C2zcYtoB",
        "outputId": "48652350-1303-48a4-c511-c5cc3594064c"
      },
      "execution_count": 14,
      "outputs": [
        {
          "output_type": "stream",
          "name": "stdout",
          "text": [
            "1/1 [==============================] - 0s 119ms/step\n"
          ]
        },
        {
          "output_type": "execute_result",
          "data": {
            "text/plain": [
              "array([[[ 0.0251422 , -0.02188599],\n",
              "        [ 0.0251422 , -0.02188599],\n",
              "        [-0.04047686,  0.00310308],\n",
              "        [-0.04047686,  0.00310308],\n",
              "        [ 0.02323438,  0.03360286]],\n",
              "\n",
              "       [[ 0.0251422 , -0.02188599],\n",
              "        [ 0.0251422 , -0.02188599],\n",
              "        [ 0.0361835 ,  0.03058619],\n",
              "        [ 0.0361835 ,  0.03058619],\n",
              "        [ 0.02323438,  0.03360286]],\n",
              "\n",
              "       [[ 0.0251422 , -0.02188599],\n",
              "        [ 0.0251422 , -0.02188599],\n",
              "        [-0.04047686,  0.00310308],\n",
              "        [-0.04047686,  0.00310308],\n",
              "        [ 0.02323438,  0.03360286]],\n",
              "\n",
              "       [[ 0.0251422 , -0.02188599],\n",
              "        [ 0.0251422 , -0.02188599],\n",
              "        [ 0.0361835 ,  0.03058619],\n",
              "        [ 0.0361835 ,  0.03058619],\n",
              "        [ 0.02323438,  0.03360286]],\n",
              "\n",
              "       [[ 0.0251422 , -0.02188599],\n",
              "        [-0.01700232,  0.02899071],\n",
              "        [-0.04381963, -0.01566935],\n",
              "        [ 0.00141184, -0.0143314 ],\n",
              "        [ 0.04915029,  0.04596949]],\n",
              "\n",
              "       [[-0.00704116,  0.03058887],\n",
              "        [ 0.0402636 ,  0.0378967 ],\n",
              "        [ 0.01874112, -0.04240396],\n",
              "        [-0.00691261, -0.00581903],\n",
              "        [-0.03612902,  0.03333396]],\n",
              "\n",
              "       [[ 0.0251422 , -0.02188599],\n",
              "        [-0.02128092,  0.01195506],\n",
              "        [-0.03974785,  0.04233589],\n",
              "        [-0.04955721,  0.01026224],\n",
              "        [ 0.00228757,  0.03007462]],\n",
              "\n",
              "       [[ 0.0251422 , -0.02188599],\n",
              "        [ 0.03217143,  0.03092575],\n",
              "        [-0.03974785,  0.04233589],\n",
              "        [-0.04955721,  0.01026224],\n",
              "        [ 0.04158724, -0.00358738]],\n",
              "\n",
              "       [[ 0.0251422 , -0.02188599],\n",
              "        [ 0.0251422 , -0.02188599],\n",
              "        [-0.04047686,  0.00310308],\n",
              "        [-0.04047686,  0.00310308],\n",
              "        [ 0.02323438,  0.03360286]],\n",
              "\n",
              "       [[ 0.0251422 , -0.02188599],\n",
              "        [ 0.0251422 , -0.02188599],\n",
              "        [ 0.0361835 ,  0.03058619],\n",
              "        [ 0.0361835 ,  0.03058619],\n",
              "        [ 0.02323438,  0.03360286]]], dtype=float32)"
            ]
          },
          "metadata": {},
          "execution_count": 14
        }
      ]
    },
    {
      "cell_type": "code",
      "source": [
        "data = imdb.load_data()"
      ],
      "metadata": {
        "colab": {
          "base_uri": "https://localhost:8080/"
        },
        "id": "16qYHVwyXBZD",
        "outputId": "79cdeb85-3d00-45fa-a95c-3948e9a81429"
      },
      "execution_count": 15,
      "outputs": [
        {
          "output_type": "stream",
          "name": "stdout",
          "text": [
            "Downloading data from https://storage.googleapis.com/tensorflow/tf-keras-datasets/imdb.npz\n",
            "17464789/17464789 [==============================] - 2s 0us/step\n"
          ]
        }
      ]
    },
    {
      "cell_type": "code",
      "source": [
        "(x_train,y_train), (x_test,y_test)  = data"
      ],
      "metadata": {
        "id": "HJuDPeZIXDpe"
      },
      "execution_count": 16,
      "outputs": []
    },
    {
      "cell_type": "code",
      "source": [
        "x_train.shape"
      ],
      "metadata": {
        "colab": {
          "base_uri": "https://localhost:8080/"
        },
        "id": "TqpJmuIcXIg2",
        "outputId": "1881162a-b1ca-461a-e1c9-1fe4d1eed0bf"
      },
      "execution_count": 17,
      "outputs": [
        {
          "output_type": "execute_result",
          "data": {
            "text/plain": [
              "(25000,)"
            ]
          },
          "metadata": {},
          "execution_count": 17
        }
      ]
    },
    {
      "cell_type": "code",
      "source": [
        "y_train[:4]"
      ],
      "metadata": {
        "colab": {
          "base_uri": "https://localhost:8080/"
        },
        "id": "_wV4nvzEapvV",
        "outputId": "699375d6-ad61-4362-fe73-f2ce957f1964"
      },
      "execution_count": 18,
      "outputs": [
        {
          "output_type": "execute_result",
          "data": {
            "text/plain": [
              "array([1, 0, 0, 1])"
            ]
          },
          "metadata": {},
          "execution_count": 18
        }
      ]
    },
    {
      "cell_type": "code",
      "source": [
        "x_train = pad_sequences(x_train)\n",
        "x_test = pad_sequences(x_test)"
      ],
      "metadata": {
        "id": "ewBAdLhLXJ1N"
      },
      "execution_count": 19,
      "outputs": []
    },
    {
      "cell_type": "code",
      "source": [
        "x_train.shape"
      ],
      "metadata": {
        "colab": {
          "base_uri": "https://localhost:8080/"
        },
        "id": "hYuHhBbsa4J1",
        "outputId": "c6c0c3a7-3ed6-4512-a152-ad97a34f4fb5"
      },
      "execution_count": 20,
      "outputs": [
        {
          "output_type": "execute_result",
          "data": {
            "text/plain": [
              "(25000, 2494)"
            ]
          },
          "metadata": {},
          "execution_count": 20
        }
      ]
    },
    {
      "cell_type": "code",
      "source": [
        "x_test.shape"
      ],
      "metadata": {
        "colab": {
          "base_uri": "https://localhost:8080/"
        },
        "id": "DlHq9nOCa6mu",
        "outputId": "ca6ef801-7486-4d30-bda4-329c3d320160"
      },
      "execution_count": 21,
      "outputs": [
        {
          "output_type": "execute_result",
          "data": {
            "text/plain": [
              "(25000, 2315)"
            ]
          },
          "metadata": {},
          "execution_count": 21
        }
      ]
    },
    {
      "cell_type": "code",
      "source": [
        "model_imdb = Sequential()\n",
        "model_imdb.add(Embedding(10000, output_dim = 2,input_length= 2494))\n",
        "model_imdb.add(SimpleRNN(32,return_sequences=False))\n",
        "model_imdb.add(Dense(1, activation='sigmoid'))\n",
        "\n",
        "model_imdb.summary()"
      ],
      "metadata": {
        "colab": {
          "base_uri": "https://localhost:8080/"
        },
        "id": "nIE_bQfKa8L0",
        "outputId": "00432f3f-2e91-4d33-9dd7-0e475b94f8d1"
      },
      "execution_count": 22,
      "outputs": [
        {
          "output_type": "stream",
          "name": "stdout",
          "text": [
            "Model: \"sequential_2\"\n",
            "_________________________________________________________________\n",
            " Layer (type)                Output Shape              Param #   \n",
            "=================================================================\n",
            " embedding_2 (Embedding)     (None, 2494, 2)           20000     \n",
            "                                                                 \n",
            " simple_rnn (SimpleRNN)      (None, 32)                1120      \n",
            "                                                                 \n",
            " dense (Dense)               (None, 1)                 33        \n",
            "                                                                 \n",
            "=================================================================\n",
            "Total params: 21153 (82.63 KB)\n",
            "Trainable params: 21153 (82.63 KB)\n",
            "Non-trainable params: 0 (0.00 Byte)\n",
            "_________________________________________________________________\n"
          ]
        }
      ]
    },
    {
      "cell_type": "code",
      "source": [
        "model_imdb.compile(loss='binary_crossentropy', optimizer='adam', metrics=['accuracy'])"
      ],
      "metadata": {
        "id": "NCjvQANEb7Wo"
      },
      "execution_count": 23,
      "outputs": []
    },
    {
      "cell_type": "code",
      "source": [
        "history = model_imdb.fit(x_train, y_train, epochs=10, validation_split=0.2, batch_size=64)"
      ],
      "metadata": {
        "colab": {
          "base_uri": "https://localhost:8080/"
        },
        "id": "YB59O3EjcO1Q",
        "outputId": "b8d4acdd-efc3-42e9-8554-44dd7a6b1a82"
      },
      "execution_count": null,
      "outputs": [
        {
          "output_type": "stream",
          "name": "stdout",
          "text": [
            "Epoch 1/10\n",
            " 71/313 [=====>........................] - ETA: 10:26 - loss: 0.6990 - accuracy: 0.4897"
          ]
        }
      ]
    },
    {
      "cell_type": "code",
      "source": [],
      "metadata": {
        "id": "dIpyWw2ecWXO"
      },
      "execution_count": null,
      "outputs": []
    }
  ]
}