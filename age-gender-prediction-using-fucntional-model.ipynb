{
 "cells": [
  {
   "cell_type": "markdown",
   "id": "87c5f1e3-7ead-46d6-ad37-eb870e2536d6",
   "metadata": {},
   "source": [
    "### Getting data from Kaggle using API"
   ]
  },
  {
   "cell_type": "code",
   "execution_count": null,
   "id": "386fcfc7-0650-43ee-8134-92c3c07bbe47",
   "metadata": {},
   "outputs": [],
   "source": [
    "! mkdir ~/.kaggle\n",
    "! cp kaggle.json ~/.kaggle/"
   ]
  },
  {
   "cell_type": "code",
   "execution_count": null,
   "id": "a60983a4-2b88-4a12-9453-7444204de8ff",
   "metadata": {},
   "outputs": [],
   "source": [
    "!kaggle datasets download -d jangedoo/utkface-new"
   ]
  },
  {
   "cell_type": "code",
   "execution_count": null,
   "id": "16ed49e8-a6c6-40c0-a62a-93adfe910dd8",
   "metadata": {},
   "outputs": [],
   "source": [
    "!unzip '/content/utkface-new.zip'"
   ]
  },
  {
   "cell_type": "markdown",
   "id": "e9165813-a5be-4cad-a0db-76b90faa694e",
   "metadata": {},
   "source": [
    "### Preprocessing the data"
   ]
  },
  {
   "cell_type": "code",
   "execution_count": null,
   "id": "8a90187f-54ed-4243-ba11-8a7331c3d9dc",
   "metadata": {},
   "outputs": [],
   "source": [
    "import os\n",
    "\n",
    "len(os.listdir('/content/UTKFace'))"
   ]
  },
  {
   "cell_type": "code",
   "execution_count": null,
   "id": "1a794a3e-0caa-4cb6-b40e-9b672e50a90c",
   "metadata": {},
   "outputs": [],
   "source": [
    "os.listdir('/content/UTKFace')[100]"
   ]
  },
  {
   "cell_type": "code",
   "execution_count": null,
   "id": "90e51fab-51fe-43cb-91c3-34c49194ab22",
   "metadata": {},
   "outputs": [],
   "source": [
    "age = []\n",
    "gender = []\n",
    "img_path =[]\n",
    "for file in os.listdir('/content/UTKFace'):\n",
    "  age.append(int(file.split('_')[0]))\n",
    "  gender.append(int(file.split('_')[1]))\n",
    "  img_path.append(file)"
   ]
  },
  {
   "cell_type": "code",
   "execution_count": null,
   "id": "a4798f35-0e69-4440-ba24-6fb416d18452",
   "metadata": {},
   "outputs": [],
   "source": [
    "len(age)"
   ]
  },
  {
   "cell_type": "code",
   "execution_count": null,
   "id": "d100345d-7ac1-4aaf-8a23-26d6e78d3696",
   "metadata": {},
   "outputs": [],
   "source": [
    "gender[:5]"
   ]
  },
  {
   "cell_type": "code",
   "execution_count": null,
   "id": "5601e4f0-1838-4135-92a2-3115466b5481",
   "metadata": {},
   "outputs": [],
   "source": [
    "age[:5]"
   ]
  },
  {
   "cell_type": "code",
   "execution_count": null,
   "id": "0121a4e3-4551-4b2b-9269-d9a1c4eb3cd7",
   "metadata": {},
   "outputs": [],
   "source": [
    "len(gender)"
   ]
  },
  {
   "cell_type": "code",
   "execution_count": null,
   "id": "a02ac2fa-014d-4d90-8f96-535d764ff29e",
   "metadata": {},
   "outputs": [],
   "source": [
    "import pandas as pd \n",
    "\n",
    "df = pd.DataFrame({'age':age, 'gender':gender, 'file':img_path})\n",
    "df.head()"
   ]
  },
  {
   "cell_type": "markdown",
   "id": "411c88b3-0c0e-4a5d-89e3-a841319cb9f6",
   "metadata": {},
   "source": [
    "### Train-test Generator"
   ]
  },
  {
   "cell_type": "code",
   "execution_count": null,
   "id": "5bc4ffa2-d098-455c-b583-9a30f1087926",
   "metadata": {},
   "outputs": [],
   "source": [
    "train = df.sample(frac=1, random_state=42)[:20000]\n",
    "\n",
    "test = df.sample(frac=1, random_state=42)[20000:]"
   ]
  },
  {
   "cell_type": "code",
   "execution_count": null,
   "id": "c7d21072-9f61-4e39-8fc8-adf17f841e53",
   "metadata": {},
   "outputs": [],
   "source": [
    "test.shape"
   ]
  },
  {
   "cell_type": "code",
   "execution_count": null,
   "id": "e1518c01-b14f-4a00-9275-e2c1bff03d61",
   "metadata": {},
   "outputs": [],
   "source": [
    "train.shape"
   ]
  },
  {
   "cell_type": "code",
   "execution_count": null,
   "id": "8044644f-a0e7-4e81-845f-b0ca388bfa22",
   "metadata": {},
   "outputs": [],
   "source": [
    "from keras.preprocessing.image import ImageDataGenerator\n",
    "\n",
    "train_gen = ImageDataGenerator(\n",
    "    rescale = 1./255,\n",
    "    rotation_range=0.2,\n",
    "    shear_range = 0.2,\n",
    "    zoom_range = 0.2,\n",
    "    horizontal_flip=True,\n",
    "    vertical_flip= True\n",
    ")\n",
    "\n",
    "test_gen = ImageDataGenerator(\n",
    "    rescale = 1./255\n",
    ")"
   ]
  },
  {
   "cell_type": "code",
   "execution_count": null,
   "id": "8228d32f-6dca-4d38-9955-90ef486551ed",
   "metadata": {},
   "outputs": [],
   "source": [
    "train_generator = train_gen.flow_from_dataframe(\n",
    "    train,\n",
    "    directory='/content/UTKFace',\n",
    "    x_col='file',  # Assuming 'file' column contains the paths to the images\n",
    "    y_col=['age', 'gender'],  # 'age' and 'gender' are the output labels\n",
    "    class_mode='multi_output'  # Specifying that we have multiple output labels\n",
    ")\n",
    "\n",
    "test_generator = test_gen.flow_from_dataframe(\n",
    "    test,\n",
    "    directory='/content/UTKFace',\n",
    "    x_col='file',  # Assuming 'file' column contains the paths to the images\n",
    "    y_col=['age', 'gender'],  # 'age' and 'gender' are the output labels\n",
    "    class_mode='multi_output'  # Specifying that we have multiple output labels\n",
    ")\n"
   ]
  },
  {
   "cell_type": "code",
   "execution_count": null,
   "id": "bdc438c9-26ad-4ddc-836e-dcdce273719c",
   "metadata": {},
   "outputs": [],
   "source": [
    "train_generator.class_mode"
   ]
  },
  {
   "cell_type": "markdown",
   "id": "bfcb72c7-c489-410c-862e-a735d6628b6c",
   "metadata": {},
   "source": [
    "### Loading pre-trained resnet50 and changing the architecture according to required use"
   ]
  },
  {
   "cell_type": "code",
   "execution_count": null,
   "id": "d31982d9-b3a1-41d3-b962-aca67bd1ceae",
   "metadata": {},
   "outputs": [],
   "source": [
    "from keras.applications.resnet50 import ResNet50"
   ]
  },
  {
   "cell_type": "code",
   "execution_count": null,
   "id": "071eb245-77e8-42be-8bba-26f4375afd63",
   "metadata": {},
   "outputs": [],
   "source": [
    "model = ResNet50(include_top = False, input_shape=(256,256,3))"
   ]
  },
  {
   "cell_type": "code",
   "execution_count": null,
   "id": "271a3930-74e8-43e3-b1a6-8c0e22f37979",
   "metadata": {},
   "outputs": [],
   "source": [
    "model.summary()"
   ]
  },
  {
   "cell_type": "code",
   "execution_count": null,
   "id": "6b52eefe-426d-4765-a855-fe5d65b72fc9",
   "metadata": {},
   "outputs": [],
   "source": [
    "model.trainable= False"
   ]
  },
  {
   "cell_type": "code",
   "execution_count": null,
   "id": "2555af5b-d447-4613-b090-801ece4848d1",
   "metadata": {},
   "outputs": [],
   "source": [
    "model.summary()"
   ]
  },
  {
   "cell_type": "code",
   "execution_count": null,
   "id": "0df33c54-ba07-4e77-946c-e2ff4562b380",
   "metadata": {},
   "outputs": [],
   "source": [
    "output_resnet = model.layers[-1].output\n",
    "output_resnet"
   ]
  },
  {
   "cell_type": "code",
   "execution_count": null,
   "id": "9d4dfaca-45d2-4f47-8a3f-215644515405",
   "metadata": {},
   "outputs": [],
   "source": [
    "from keras.models import Model\n",
    "from keras.layers import *"
   ]
  },
  {
   "cell_type": "code",
   "execution_count": null,
   "id": "3518da50-ea09-4f9f-807e-beee484e4312",
   "metadata": {},
   "outputs": [],
   "source": [
    "flat = Flatten()(output_resnet)\n",
    "\n",
    "\n",
    "hidden1 = Dense(512, activation='relu')(flat)\n",
    "hidden2 = Dense(256, activation='relu')(flat)\n",
    "\n",
    "hidden3 = Dense(256, activation='relu')(hidden1)\n",
    "hidden4 = Dense(256, activation='relu')(hidden2)\n",
    "\n",
    "\n",
    "output1 = Dense(1, activation='linear', name='age')(hidden3)\n",
    "output2 = Dense(1,activation='sigmoid', name='gender')(hidden4)"
   ]
  },
  {
   "cell_type": "code",
   "execution_count": null,
   "id": "81bceaa2-593b-41fe-a0a6-fe81187611f0",
   "metadata": {},
   "outputs": [],
   "source": [
    "final_model = Model(inputs=model.input, outputs = [output1, output2])\n",
    "# model.input"
   ]
  },
  {
   "cell_type": "code",
   "execution_count": null,
   "id": "ef0ba0e6-28bb-4bb0-9dbd-1bd681da229d",
   "metadata": {},
   "outputs": [],
   "source": [
    "final_model.summary()"
   ]
  },
  {
   "cell_type": "code",
   "execution_count": null,
   "id": "906f530b-4bd1-4170-8e1c-81bdcfbc8c3d",
   "metadata": {},
   "outputs": [],
   "source": [
    "from keras.utils import plot_model\n",
    "\n",
    "plot_model(final_model,show_shapes=True)"
   ]
  },
  {
   "cell_type": "markdown",
   "id": "3fc31e0e-4e2c-47f1-ae31-6907fb37bdee",
   "metadata": {},
   "source": [
    "### Model Training"
   ]
  },
  {
   "cell_type": "code",
   "execution_count": null,
   "id": "6716cc93-e374-4a0b-9783-20de456ce5d0",
   "metadata": {},
   "outputs": [],
   "source": [
    "final_model.compile(loss={'age':'mae', 'gender':'binary_crossentropy'}, optimizer='adam', metrics={'age':'mae', 'gender':'accuracy'},loss_weights={'age':1,'gender':99})"
   ]
  },
  {
   "cell_type": "code",
   "execution_count": null,
   "id": "6bfd85fa-f923-4227-88c6-7afe0a199bb6",
   "metadata": {},
   "outputs": [],
   "source": [
    "history = final_model.fit(train_generator, batch_size=32, validation_data=test_generator,epochs=10)"
   ]
  },
  {
   "cell_type": "code",
   "execution_count": null,
   "id": "7daf7320-a3fa-4f7b-ae0f-bfa8fee6eb4e",
   "metadata": {},
   "outputs": [],
   "source": [
    "history.history"
   ]
  },
  {
   "cell_type": "code",
   "execution_count": null,
   "id": "99fe1394-fa79-4d59-bd97-a1b7989ba24f",
   "metadata": {},
   "outputs": [],
   "source": [
    "history.history['loss']"
   ]
  },
  {
   "cell_type": "code",
   "execution_count": null,
   "id": "fe785106-1658-4a3c-a826-d78d2b36eecd",
   "metadata": {},
   "outputs": [],
   "source": [
    "history.history['accuracy']"
   ]
  },
  {
   "cell_type": "code",
   "execution_count": null,
   "id": "364153d9-fdde-4324-aa64-fb09b73bf84d",
   "metadata": {},
   "outputs": [],
   "source": []
  }
 ],
 "metadata": {
  "kernelspec": {
   "display_name": "Python 3 (ipykernel)",
   "language": "python",
   "name": "python3"
  },
  "language_info": {
   "codemirror_mode": {
    "name": "ipython",
    "version": 3
   },
   "file_extension": ".py",
   "mimetype": "text/x-python",
   "name": "python",
   "nbconvert_exporter": "python",
   "pygments_lexer": "ipython3",
   "version": "3.10.0"
  }
 },
 "nbformat": 4,
 "nbformat_minor": 5
}
