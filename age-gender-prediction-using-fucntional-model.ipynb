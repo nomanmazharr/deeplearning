{
 "cells": [
  {
   "cell_type": "markdown",
   "id": "87c5f1e3-7ead-46d6-ad37-eb870e2536d6",
   "metadata": {},
   "source": [
    "### Getting data from Kaggle using API"
   ]
  },
  {
   "cell_type": "code",
   "execution_count": null,
   "id": "386fcfc7-0650-43ee-8134-92c3c07bbe47",
   "metadata": {},
   "outputs": [],
   "source": [
    "! mkdir ~/.kaggle\n",
    "! cp kaggle.json ~/.kaggle/"
   ]
  },
  {
   "cell_type": "code",
   "execution_count": null,
   "id": "a60983a4-2b88-4a12-9453-7444204de8ff",
   "metadata": {},
   "outputs": [],
   "source": [
    "!kaggle datasets download -d jangedoo/utkface-new"
   ]
  },
  {
   "cell_type": "code",
   "execution_count": null,
   "id": "16ed49e8-a6c6-40c0-a62a-93adfe910dd8",
   "metadata": {},
   "outputs": [],
   "source": [
    "!unzip '/content/utkface-new.zip'"
   ]
  },
  {
   "cell_type": "markdown",
   "id": "e9165813-a5be-4cad-a0db-76b90faa694e",
   "metadata": {},
   "source": [
    "### Preprocessing the data"
   ]
  },
  {
   "cell_type": "code",
   "execution_count": null,
   "id": "8a90187f-54ed-4243-ba11-8a7331c3d9dc",
   "metadata": {},
   "outputs": [],
   "source": [
    "import os\n",
    "\n",
    "len(os.listdir('/content/UTKFace'))"
   ]
  },
  {
   "cell_type": "code",
   "execution_count": null,
   "id": "1a794a3e-0caa-4cb6-b40e-9b672e50a90c",
   "metadata": {},
   "outputs": [],
   "source": [
    "os.listdir('/content/UTKFace')[100]"
   ]
  },
  {
   "cell_type": "code",
   "execution_count": null,
   "id": "90e51fab-51fe-43cb-91c3-34c49194ab22",
   "metadata": {},
   "outputs": [],
   "source": [
    "age = []\n",
    "gender = []\n",
    "img_path =[]\n",
    "for file in os.listdir('/content/UTKFace'):\n",
    "  age.append(int(file.split('_')[0]))\n",
    "  gender.append(int(file.split('_')[1]))\n",
    "  img_path.append(file)"
   ]
  },
  {
   "cell_type": "code",
   "execution_count": null,
   "id": "a4798f35-0e69-4440-ba24-6fb416d18452",
   "metadata": {},
   "outputs": [],
   "source": [
    "len(age)"
   ]
  },
  {
   "cell_type": "code",
   "execution_count": null,
   "id": "d100345d-7ac1-4aaf-8a23-26d6e78d3696",
   "metadata": {},
   "outputs": [],
   "source": [
    "gender[:5]"
   ]
  },
  {
   "cell_type": "code",
   "execution_count": null,
   "id": "5601e4f0-1838-4135-92a2-3115466b5481",
   "metadata": {},
   "outputs": [],
   "source": [
    "age[:5]"
   ]
  },
  {
   "cell_type": "code",
   "execution_count": null,
   "id": "0121a4e3-4551-4b2b-9269-d9a1c4eb3cd7",
   "metadata": {},
   "outputs": [],
   "source": [
    "len(gender)"
   ]
  },
  {
   "cell_type": "code",
   "execution_count": null,
   "id": "a02ac2fa-014d-4d90-8f96-535d764ff29e",
   "metadata": {},
   "outputs": [],
   "source": [
    "import pandas as pd \n",
    "\n",
    "df = pd.DataFrame({'age':age, 'gender':gender, 'file':img_path})\n",
    "df.head()"
   ]
  },
  {
   "cell_type": "code",
   "execution_count": null,
   "id": "fe924f91-bd94-41e2-9951-dfffb8daa3b5",
   "metadata": {},
   "outputs": [],
   "source": []
  },
  {
   "cell_type": "code",
   "execution_count": null,
   "id": "5bc4ffa2-d098-455c-b583-9a30f1087926",
   "metadata": {},
   "outputs": [],
   "source": []
  },
  {
   "cell_type": "code",
   "execution_count": null,
   "id": "c7d21072-9f61-4e39-8fc8-adf17f841e53",
   "metadata": {},
   "outputs": [],
   "source": []
  }
 ],
 "metadata": {
  "kernelspec": {
   "display_name": "Python 3 (ipykernel)",
   "language": "python",
   "name": "python3"
  },
  "language_info": {
   "codemirror_mode": {
    "name": "ipython",
    "version": 3
   },
   "file_extension": ".py",
   "mimetype": "text/x-python",
   "name": "python",
   "nbconvert_exporter": "python",
   "pygments_lexer": "ipython3",
   "version": "3.10.0"
  }
 },
 "nbformat": 4,
 "nbformat_minor": 5
}
