{
 "cells": [
  {
   "cell_type": "markdown",
   "metadata": {},
   "source": [
    "### Basic Architecture for DEEP RNN, LSTM and GRU"
   ]
  },
  {
   "cell_type": "markdown",
   "metadata": {},
   "source": [
    "#### Loading Dataset"
   ]
  },
  {
   "cell_type": "code",
   "execution_count": null,
   "metadata": {
    "id": "I8KJFwn3h_ux"
   },
   "outputs": [],
   "source": [
    "from tensorflow.keras.datasets import imdb"
   ]
  },
  {
   "cell_type": "code",
   "execution_count": null,
   "metadata": {
    "id": "uFwvHKXciKcs"
   },
   "outputs": [],
   "source": [
    "(x_train, y_train), (x_test, y_test) = imdb.load_data()"
   ]
  },
  {
   "cell_type": "code",
   "execution_count": null,
   "metadata": {
    "colab": {
     "base_uri": "https://localhost:8080/"
    },
    "id": "hKB4NXWDiUOg",
    "outputId": "f8018d98-c537-49ea-c0a5-a1584b72fa77"
   },
   "outputs": [
    {
     "data": {
      "text/plain": [
       "(25000,)"
      ]
     },
     "execution_count": 7,
     "metadata": {},
     "output_type": "execute_result"
    }
   ],
   "source": [
    "x_train.shape"
   ]
  },
  {
   "cell_type": "code",
   "execution_count": null,
   "metadata": {
    "colab": {
     "base_uri": "https://localhost:8080/"
    },
    "id": "vluK_jV6iihn",
    "outputId": "960f341e-904a-4a88-9cdb-e78dff79c24e"
   },
   "outputs": [
    {
     "data": {
      "text/plain": [
       "(25000,)"
      ]
     },
     "execution_count": 10,
     "metadata": {},
     "output_type": "execute_result"
    }
   ],
   "source": [
    "y_test.shape"
   ]
  },
  {
   "cell_type": "code",
   "execution_count": null,
   "metadata": {
    "colab": {
     "base_uri": "https://localhost:8080/"
    },
    "id": "aeML4O7lij6k",
    "outputId": "25458136-5541-4659-a361-80a10061afeb"
   },
   "outputs": [
    {
     "data": {
      "text/plain": [
       "189"
      ]
     },
     "execution_count": 15,
     "metadata": {},
     "output_type": "execute_result"
    }
   ],
   "source": [
    "len(x_train[1])"
   ]
  },
  {
   "cell_type": "code",
   "execution_count": null,
   "metadata": {
    "colab": {
     "base_uri": "https://localhost:8080/"
    },
    "id": "J2q8r3Ooiri0",
    "outputId": "5a9dd307-757f-425e-b880-6d495d07d7ba"
   },
   "outputs": [
    {
     "data": {
      "text/plain": [
       "218"
      ]
     },
     "execution_count": 16,
     "metadata": {},
     "output_type": "execute_result"
    }
   ],
   "source": [
    "len(x_train[0])"
   ]
  },
  {
   "cell_type": "markdown",
   "metadata": {},
   "source": [
    "#### Adding padding to equal the length of input"
   ]
  },
  {
   "cell_type": "code",
   "execution_count": null,
   "metadata": {
    "id": "6k5LuBiGizla"
   },
   "outputs": [],
   "source": [
    "from tensorflow.keras.preprocessing.sequence import pad_sequences\n",
    "\n",
    "x_train_padding = pad_sequences(x_train, maxlen=100)\n",
    "x_test_padding = pad_sequences(x_test, maxlen=100)"
   ]
  },
  {
   "cell_type": "code",
   "execution_count": null,
   "metadata": {
    "colab": {
     "base_uri": "https://localhost:8080/"
    },
    "id": "1XgbUiiPi__m",
    "outputId": "eb637b4f-644d-4620-e5ea-0efb90c5ad93"
   },
   "outputs": [
    {
     "data": {
      "text/plain": [
       "100"
      ]
     },
     "execution_count": 22,
     "metadata": {},
     "output_type": "execute_result"
    }
   ],
   "source": [
    "len(x_train_padding[0])"
   ]
  },
  {
   "cell_type": "code",
   "execution_count": null,
   "metadata": {
    "colab": {
     "base_uri": "https://localhost:8080/"
    },
    "id": "xMGaM0xdjDDK",
    "outputId": "92e19303-0051-4689-a060-930aa26537d6"
   },
   "outputs": [
    {
     "data": {
      "text/plain": [
       "1"
      ]
     },
     "execution_count": 19,
     "metadata": {},
     "output_type": "execute_result"
    }
   ],
   "source": [
    "y_train[0]"
   ]
  },
  {
   "cell_type": "code",
   "execution_count": null,
   "metadata": {
    "colab": {
     "base_uri": "https://localhost:8080/"
    },
    "id": "9TLrFbpNjLWk",
    "outputId": "cc5ebd85-4237-41ba-98d9-f6c9f02cb93a"
   },
   "outputs": [
    {
     "data": {
      "text/plain": [
       "array([1, 0, 0, ..., 0, 1, 0])"
      ]
     },
     "execution_count": 20,
     "metadata": {},
     "output_type": "execute_result"
    }
   ],
   "source": [
    "y_train"
   ]
  },
  {
   "cell_type": "code",
   "execution_count": 35,
   "metadata": {
    "id": "QymVoq-DjMdE"
   },
   "outputs": [],
   "source": [
    "from tensorflow.keras.models import Sequential\n",
    "from tensorflow.keras.layers import SimpleRNN, LSTM, GRU, Embedding, Dense"
   ]
  },
  {
   "cell_type": "markdown",
   "metadata": {},
   "source": [
    "#### Architecture for Deep-RNN\n",
    "- Layers are stacked on top of each other and each new takes input from previous layer just like the case of ANN"
   ]
  },
  {
   "cell_type": "code",
   "execution_count": 36,
   "metadata": {
    "colab": {
     "base_uri": "https://localhost:8080/"
    },
    "id": "gPxDAbfsjfSm",
    "outputId": "8aa1bfd0-5fde-4d94-9563-8477b55996c1"
   },
   "outputs": [
    {
     "name": "stdout",
     "output_type": "stream",
     "text": [
      "Model: \"sequential\"\n",
      "_________________________________________________________________\n",
      " Layer (type)                Output Shape              Param #   \n",
      "=================================================================\n",
      " embedding (Embedding)       (None, 100, 32)           320000    \n",
      "                                                                 \n",
      " simple_rnn (SimpleRNN)      (None, 100, 5)            190       \n",
      "                                                                 \n",
      " simple_rnn_1 (SimpleRNN)    (None, 5)                 55        \n",
      "                                                                 \n",
      " dense (Dense)               (None, 1)                 6         \n",
      "                                                                 \n",
      "=================================================================\n",
      "Total params: 320251 (1.22 MB)\n",
      "Trainable params: 320251 (1.22 MB)\n",
      "Non-trainable params: 0 (0.00 Byte)\n",
      "_________________________________________________________________\n"
     ]
    }
   ],
   "source": [
    "model = Sequential()\n",
    "model.add(Embedding(10000, 32, input_length=100))\n",
    "model.add(SimpleRNN(5, return_sequences=True))\n",
    "model.add(SimpleRNN(5))\n",
    "\n",
    "model.add(Dense(1, activation='sigmoid'))\n",
    "\n",
    "model.summary()"
   ]
  },
  {
   "cell_type": "code",
   "execution_count": 37,
   "metadata": {
    "id": "_4p8ZoyGqp4N"
   },
   "outputs": [],
   "source": [
    "model.compile(optimizer='adam', loss='binary_crossentropy' ,metrics=['accuracy'] )"
   ]
  },
  {
   "cell_type": "code",
   "execution_count": 42,
   "metadata": {
    "colab": {
     "base_uri": "https://localhost:8080/"
    },
    "id": "zcu1lyXSq7GT",
    "outputId": "e7fe4d8b-4dd2-48fd-f8c6-76eca9b43d90"
   },
   "outputs": [
    {
     "name": "stdout",
     "output_type": "stream",
     "text": [
      "Epoch 1/10\n",
      "782/782 [==============================] - 183s 232ms/step - loss: 0.5307 - accuracy: 0.7386 - val_loss: 0.4594 - val_accuracy: 0.7972\n",
      "Epoch 2/10\n",
      "782/782 [==============================] - 152s 195ms/step - loss: 0.3847 - accuracy: 0.8383 - val_loss: 0.4815 - val_accuracy: 0.7810\n",
      "Epoch 3/10\n",
      "782/782 [==============================] - 151s 193ms/step - loss: 0.3449 - accuracy: 0.8588 - val_loss: 0.4479 - val_accuracy: 0.8074\n",
      "Epoch 4/10\n",
      "782/782 [==============================] - 162s 207ms/step - loss: 0.2623 - accuracy: 0.8984 - val_loss: 0.4808 - val_accuracy: 0.8012\n",
      "Epoch 5/10\n",
      "782/782 [==============================] - 168s 215ms/step - loss: 0.2243 - accuracy: 0.9148 - val_loss: 0.5063 - val_accuracy: 0.8030\n",
      "Epoch 6/10\n",
      "782/782 [==============================] - 163s 209ms/step - loss: 0.1646 - accuracy: 0.9431 - val_loss: 0.5469 - val_accuracy: 0.7925\n",
      "Epoch 7/10\n",
      "782/782 [==============================] - 156s 199ms/step - loss: 0.1538 - accuracy: 0.9466 - val_loss: 0.6595 - val_accuracy: 0.7456\n",
      "Epoch 8/10\n",
      "782/782 [==============================] - 154s 197ms/step - loss: 0.1454 - accuracy: 0.9475 - val_loss: 0.6399 - val_accuracy: 0.7818\n",
      "Epoch 9/10\n",
      "782/782 [==============================] - 157s 201ms/step - loss: 0.1084 - accuracy: 0.9643 - val_loss: 0.6726 - val_accuracy: 0.7830\n",
      "Epoch 10/10\n",
      "782/782 [==============================] - 150s 192ms/step - loss: 0.0897 - accuracy: 0.9712 - val_loss: 0.7250 - val_accuracy: 0.7846\n"
     ]
    },
    {
     "data": {
      "text/plain": [
       "<keras.src.callbacks.History at 0x7896a3fd2590>"
      ]
     },
     "execution_count": 42,
     "metadata": {},
     "output_type": "execute_result"
    }
   ],
   "source": [
    "model.fit(x_train_padding,y_train, epochs=10, validation_data=(x_test_padding,y_test))"
   ]
  },
  {
   "cell_type": "markdown",
   "metadata": {},
   "source": [
    "### Architecture of Deep-LSTM"
   ]
  },
  {
   "cell_type": "code",
   "execution_count": 45,
   "metadata": {
    "id": "rBSd441orITB"
   },
   "outputs": [],
   "source": [
    "model_LSTM = Sequential()\n",
    "\n",
    "model_LSTM.add(Embedding(10000,32,input_length=100))\n",
    "model_LSTM.add(LSTM(5, return_sequences=True))\n",
    "model_LSTM.add(LSTM(5))\n",
    "\n",
    "model_LSTM.add(Dense(1,activation='sigmoid'))"
   ]
  },
  {
   "cell_type": "code",
   "execution_count": 46,
   "metadata": {
    "colab": {
     "base_uri": "https://localhost:8080/"
    },
    "id": "8TlTA9_UzlqL",
    "outputId": "886e5555-3b70-4e4c-e773-0427c6fe7344"
   },
   "outputs": [
    {
     "name": "stdout",
     "output_type": "stream",
     "text": [
      "Model: \"sequential_2\"\n",
      "_________________________________________________________________\n",
      " Layer (type)                Output Shape              Param #   \n",
      "=================================================================\n",
      " embedding_2 (Embedding)     (None, 100, 32)           320000    \n",
      "                                                                 \n",
      " lstm (LSTM)                 (None, 100, 5)            760       \n",
      "                                                                 \n",
      " lstm_1 (LSTM)               (None, 5)                 220       \n",
      "                                                                 \n",
      " dense_1 (Dense)             (None, 1)                 6         \n",
      "                                                                 \n",
      "=================================================================\n",
      "Total params: 320986 (1.22 MB)\n",
      "Trainable params: 320986 (1.22 MB)\n",
      "Non-trainable params: 0 (0.00 Byte)\n",
      "_________________________________________________________________\n"
     ]
    }
   ],
   "source": [
    "model_LSTM.summary()"
   ]
  },
  {
   "cell_type": "code",
   "execution_count": 47,
   "metadata": {
    "id": "Dtcoy8PlzmZ9"
   },
   "outputs": [],
   "source": [
    "model_LSTM.compile(optimizer='adam', loss='binary_crossentropy' ,metrics=['accuracy'] )"
   ]
  },
  {
   "cell_type": "code",
   "execution_count": null,
   "metadata": {
    "colab": {
     "base_uri": "https://localhost:8080/"
    },
    "id": "2VKi2gZR18eb",
    "outputId": "adea3ecf-5d64-46a6-8739-60cbd3771e08"
   },
   "outputs": [
    {
     "name": "stdout",
     "output_type": "stream",
     "text": [
      "Epoch 1/10\n"
     ]
    }
   ],
   "source": [
    "model_LSTM.fit(x_train_padding,y_train, epochs=10, validation_data=(x_test_padding,y_test))"
   ]
  },
  {
   "cell_type": "markdown",
   "metadata": {},
   "source": [
    "#### Architecture of Deep-GRU"
   ]
  },
  {
   "cell_type": "code",
   "execution_count": null,
   "metadata": {
    "id": "tqhz4F7F2BLM"
   },
   "outputs": [],
   "source": [
    "model_GRU = Sequential()\n",
    "\n",
    "model_GRU.add(Embedding(10000,32,input_length=100))\n",
    "model_GRU.add(GRU(5, return_sequences=True))\n",
    "model_GRU.add(GRU(5))\n",
    "\n",
    "model_GRU.add(Dense(1,activation='sigmoid'))\n",
    "\n",
    "model_GRU.summary()"
   ]
  },
  {
   "cell_type": "code",
   "execution_count": null,
   "metadata": {},
   "outputs": [],
   "source": [
    "model_GRU.compile(optimizer='adam', loss='binary_crossentropy', metrics=['accuracy'])"
   ]
  },
  {
   "cell_type": "code",
   "execution_count": null,
   "metadata": {},
   "outputs": [],
   "source": [
    "model_GRU.fit(x_train_padding, y_train, epochs=10, validation_data=(x_test_padding,y_test))"
   ]
  }
 ],
 "metadata": {
  "accelerator": "GPU",
  "colab": {
   "gpuType": "T4",
   "provenance": []
  },
  "kernelspec": {
   "display_name": "Python 3 (ipykernel)",
   "language": "python",
   "name": "python3"
  },
  "language_info": {
   "codemirror_mode": {
    "name": "ipython",
    "version": 3
   },
   "file_extension": ".py",
   "mimetype": "text/x-python",
   "name": "python",
   "nbconvert_exporter": "python",
   "pygments_lexer": "ipython3",
   "version": "3.10.0"
  }
 },
 "nbformat": 4,
 "nbformat_minor": 4
}
